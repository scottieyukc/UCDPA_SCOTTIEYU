{
 "cells": [
  {
   "cell_type": "code",
<<<<<<< HEAD
   "execution_count": 75,
=======
   "execution_count": 1,
>>>>>>> d1f8d51b4470dd546ec473a7dc32c47c58eacef8
   "id": "bdfcfe73",
   "metadata": {},
   "outputs": [],
   "source": [
    "#import libraries\n",
    "import pandas as pd\n",
    "import numpy as np\n",
    "from sklearn.model_selection import train_test_split\n",
    "from sklearn.preprocessing import MinMaxScaler\n",
    "from imblearn.over_sampling import SMOTE\n",
    "from sklearn.svm import SVC\n",
    "from sklearn import svm\n",
<<<<<<< HEAD
    "from sklearn.metrics import accuracy_score, confusion_matrix, classification_report\n",
    "from sklearn.model_selection import GridSearchCV #hyperparameter\n",
    "import matplotlib.pyplot as plt\n",
    "import itertools\n",
    "import requests\n",
    "import re\n"
=======
    "from sklearn.metrics import accuracy_score, confusion_matrix\n",
    "from sklearn.model_selection import GridSearchCV #hyperparameter\n",
    "import matplotlib.pyplot as plt\n",
    "import itertools"
>>>>>>> d1f8d51b4470dd546ec473a7dc32c47c58eacef8
   ]
  },
  {
   "cell_type": "code",
<<<<<<< HEAD
   "execution_count": 4,
=======
   "execution_count": 2,
>>>>>>> d1f8d51b4470dd546ec473a7dc32c47c58eacef8
   "id": "9560f6f2",
   "metadata": {},
   "outputs": [],
   "source": [
    "#load CSV files\n",
    "app_record_df = pd.read_csv(\"application_record.csv\")\n",
    "\n",
    "credit_record_df = pd.read_csv(\"credit_record.csv\")"
   ]
  },
  {
   "cell_type": "code",
<<<<<<< HEAD
   "execution_count": 5,
=======
   "execution_count": 3,
>>>>>>> d1f8d51b4470dd546ec473a7dc32c47c58eacef8
   "id": "3922e15c",
   "metadata": {},
   "outputs": [
    {
     "data": {
      "text/html": [
       "<div>\n",
       "<style scoped>\n",
       "    .dataframe tbody tr th:only-of-type {\n",
       "        vertical-align: middle;\n",
       "    }\n",
       "\n",
       "    .dataframe tbody tr th {\n",
       "        vertical-align: top;\n",
       "    }\n",
       "\n",
       "    .dataframe thead th {\n",
       "        text-align: right;\n",
       "    }\n",
       "</style>\n",
       "<table border=\"1\" class=\"dataframe\">\n",
       "  <thead>\n",
       "    <tr style=\"text-align: right;\">\n",
       "      <th></th>\n",
       "      <th>ID</th>\n",
       "      <th>CODE_GENDER</th>\n",
       "      <th>FLAG_OWN_CAR</th>\n",
       "      <th>FLAG_OWN_REALTY</th>\n",
       "      <th>CNT_CHILDREN</th>\n",
       "      <th>AMT_INCOME_TOTAL</th>\n",
       "      <th>NAME_INCOME_TYPE</th>\n",
       "      <th>NAME_EDUCATION_TYPE</th>\n",
       "      <th>NAME_FAMILY_STATUS</th>\n",
       "      <th>NAME_HOUSING_TYPE</th>\n",
       "      <th>DAYS_BIRTH</th>\n",
       "      <th>DAYS_EMPLOYED</th>\n",
       "      <th>FLAG_MOBIL</th>\n",
       "      <th>FLAG_WORK_PHONE</th>\n",
       "      <th>FLAG_PHONE</th>\n",
       "      <th>FLAG_EMAIL</th>\n",
       "      <th>OCCUPATION_TYPE</th>\n",
       "      <th>CNT_FAM_MEMBERS</th>\n",
       "    </tr>\n",
       "  </thead>\n",
       "  <tbody>\n",
       "    <tr>\n",
       "      <th>0</th>\n",
       "      <td>5008804</td>\n",
       "      <td>M</td>\n",
       "      <td>Y</td>\n",
       "      <td>Y</td>\n",
       "      <td>0</td>\n",
       "      <td>427500.0</td>\n",
       "      <td>Working</td>\n",
       "      <td>Higher education</td>\n",
       "      <td>Civil marriage</td>\n",
       "      <td>Rented apartment</td>\n",
       "      <td>-12005</td>\n",
       "      <td>-4542</td>\n",
       "      <td>1</td>\n",
       "      <td>1</td>\n",
       "      <td>0</td>\n",
       "      <td>0</td>\n",
       "      <td>NaN</td>\n",
       "      <td>2.0</td>\n",
       "    </tr>\n",
       "    <tr>\n",
       "      <th>1</th>\n",
       "      <td>5008805</td>\n",
       "      <td>M</td>\n",
       "      <td>Y</td>\n",
       "      <td>Y</td>\n",
       "      <td>0</td>\n",
       "      <td>427500.0</td>\n",
       "      <td>Working</td>\n",
       "      <td>Higher education</td>\n",
       "      <td>Civil marriage</td>\n",
       "      <td>Rented apartment</td>\n",
       "      <td>-12005</td>\n",
       "      <td>-4542</td>\n",
       "      <td>1</td>\n",
       "      <td>1</td>\n",
       "      <td>0</td>\n",
       "      <td>0</td>\n",
       "      <td>NaN</td>\n",
       "      <td>2.0</td>\n",
       "    </tr>\n",
       "    <tr>\n",
       "      <th>2</th>\n",
       "      <td>5008806</td>\n",
       "      <td>M</td>\n",
       "      <td>Y</td>\n",
       "      <td>Y</td>\n",
       "      <td>0</td>\n",
       "      <td>112500.0</td>\n",
       "      <td>Working</td>\n",
       "      <td>Secondary / secondary special</td>\n",
       "      <td>Married</td>\n",
       "      <td>House / apartment</td>\n",
       "      <td>-21474</td>\n",
       "      <td>-1134</td>\n",
       "      <td>1</td>\n",
       "      <td>0</td>\n",
       "      <td>0</td>\n",
       "      <td>0</td>\n",
       "      <td>Security staff</td>\n",
       "      <td>2.0</td>\n",
       "    </tr>\n",
       "    <tr>\n",
       "      <th>3</th>\n",
       "      <td>5008808</td>\n",
       "      <td>F</td>\n",
       "      <td>N</td>\n",
       "      <td>Y</td>\n",
       "      <td>0</td>\n",
       "      <td>270000.0</td>\n",
       "      <td>Commercial associate</td>\n",
       "      <td>Secondary / secondary special</td>\n",
       "      <td>Single / not married</td>\n",
       "      <td>House / apartment</td>\n",
       "      <td>-19110</td>\n",
       "      <td>-3051</td>\n",
       "      <td>1</td>\n",
       "      <td>0</td>\n",
       "      <td>1</td>\n",
       "      <td>1</td>\n",
       "      <td>Sales staff</td>\n",
       "      <td>1.0</td>\n",
       "    </tr>\n",
       "    <tr>\n",
       "      <th>4</th>\n",
       "      <td>5008809</td>\n",
       "      <td>F</td>\n",
       "      <td>N</td>\n",
       "      <td>Y</td>\n",
       "      <td>0</td>\n",
       "      <td>270000.0</td>\n",
       "      <td>Commercial associate</td>\n",
       "      <td>Secondary / secondary special</td>\n",
       "      <td>Single / not married</td>\n",
       "      <td>House / apartment</td>\n",
       "      <td>-19110</td>\n",
       "      <td>-3051</td>\n",
       "      <td>1</td>\n",
       "      <td>0</td>\n",
       "      <td>1</td>\n",
       "      <td>1</td>\n",
       "      <td>Sales staff</td>\n",
       "      <td>1.0</td>\n",
       "    </tr>\n",
       "  </tbody>\n",
       "</table>\n",
       "</div>"
      ],
      "text/plain": [
       "        ID CODE_GENDER FLAG_OWN_CAR FLAG_OWN_REALTY  CNT_CHILDREN  \\\n",
       "0  5008804           M            Y               Y             0   \n",
       "1  5008805           M            Y               Y             0   \n",
       "2  5008806           M            Y               Y             0   \n",
       "3  5008808           F            N               Y             0   \n",
       "4  5008809           F            N               Y             0   \n",
       "\n",
       "   AMT_INCOME_TOTAL      NAME_INCOME_TYPE            NAME_EDUCATION_TYPE  \\\n",
       "0          427500.0               Working               Higher education   \n",
       "1          427500.0               Working               Higher education   \n",
       "2          112500.0               Working  Secondary / secondary special   \n",
       "3          270000.0  Commercial associate  Secondary / secondary special   \n",
       "4          270000.0  Commercial associate  Secondary / secondary special   \n",
       "\n",
       "     NAME_FAMILY_STATUS  NAME_HOUSING_TYPE  DAYS_BIRTH  DAYS_EMPLOYED  \\\n",
       "0        Civil marriage   Rented apartment      -12005          -4542   \n",
       "1        Civil marriage   Rented apartment      -12005          -4542   \n",
       "2               Married  House / apartment      -21474          -1134   \n",
       "3  Single / not married  House / apartment      -19110          -3051   \n",
       "4  Single / not married  House / apartment      -19110          -3051   \n",
       "\n",
       "   FLAG_MOBIL  FLAG_WORK_PHONE  FLAG_PHONE  FLAG_EMAIL OCCUPATION_TYPE  \\\n",
       "0           1                1           0           0             NaN   \n",
       "1           1                1           0           0             NaN   \n",
       "2           1                0           0           0  Security staff   \n",
       "3           1                0           1           1     Sales staff   \n",
       "4           1                0           1           1     Sales staff   \n",
       "\n",
       "   CNT_FAM_MEMBERS  \n",
       "0              2.0  \n",
       "1              2.0  \n",
       "2              2.0  \n",
       "3              1.0  \n",
       "4              1.0  "
      ]
     },
<<<<<<< HEAD
     "execution_count": 5,
=======
     "execution_count": 3,
>>>>>>> d1f8d51b4470dd546ec473a7dc32c47c58eacef8
     "metadata": {},
     "output_type": "execute_result"
    }
   ],
   "source": [
    "#explore the dataset\n",
    "\n",
    "app_record_df.head()"
   ]
  },
  {
   "cell_type": "code",
<<<<<<< HEAD
   "execution_count": 6,
=======
   "execution_count": 4,
>>>>>>> d1f8d51b4470dd546ec473a7dc32c47c58eacef8
   "id": "8a5436eb",
   "metadata": {},
   "outputs": [
    {
     "data": {
      "text/html": [
       "<div>\n",
       "<style scoped>\n",
       "    .dataframe tbody tr th:only-of-type {\n",
       "        vertical-align: middle;\n",
       "    }\n",
       "\n",
       "    .dataframe tbody tr th {\n",
       "        vertical-align: top;\n",
       "    }\n",
       "\n",
       "    .dataframe thead th {\n",
       "        text-align: right;\n",
       "    }\n",
       "</style>\n",
       "<table border=\"1\" class=\"dataframe\">\n",
       "  <thead>\n",
       "    <tr style=\"text-align: right;\">\n",
       "      <th></th>\n",
       "      <th>ID</th>\n",
       "      <th>MONTHS_BALANCE</th>\n",
       "      <th>STATUS</th>\n",
       "    </tr>\n",
       "  </thead>\n",
       "  <tbody>\n",
       "    <tr>\n",
       "      <th>0</th>\n",
       "      <td>5001711</td>\n",
       "      <td>0</td>\n",
       "      <td>X</td>\n",
       "    </tr>\n",
       "    <tr>\n",
       "      <th>1</th>\n",
       "      <td>5001711</td>\n",
       "      <td>-1</td>\n",
       "      <td>0</td>\n",
       "    </tr>\n",
       "    <tr>\n",
       "      <th>2</th>\n",
       "      <td>5001711</td>\n",
       "      <td>-2</td>\n",
       "      <td>0</td>\n",
       "    </tr>\n",
       "    <tr>\n",
       "      <th>3</th>\n",
       "      <td>5001711</td>\n",
       "      <td>-3</td>\n",
       "      <td>0</td>\n",
       "    </tr>\n",
       "    <tr>\n",
       "      <th>4</th>\n",
       "      <td>5001712</td>\n",
       "      <td>0</td>\n",
       "      <td>C</td>\n",
       "    </tr>\n",
       "  </tbody>\n",
       "</table>\n",
       "</div>"
      ],
      "text/plain": [
       "        ID  MONTHS_BALANCE STATUS\n",
       "0  5001711               0      X\n",
       "1  5001711              -1      0\n",
       "2  5001711              -2      0\n",
       "3  5001711              -3      0\n",
       "4  5001712               0      C"
      ]
     },
<<<<<<< HEAD
     "execution_count": 6,
=======
     "execution_count": 4,
>>>>>>> d1f8d51b4470dd546ec473a7dc32c47c58eacef8
     "metadata": {},
     "output_type": "execute_result"
    }
   ],
   "source": [
    "credit_record_df.head()"
   ]
  },
  {
   "cell_type": "code",
<<<<<<< HEAD
   "execution_count": 7,
=======
   "execution_count": 5,
>>>>>>> d1f8d51b4470dd546ec473a7dc32c47c58eacef8
   "id": "3dca4a1e",
   "metadata": {},
   "outputs": [
    {
     "name": "stdout",
     "output_type": "stream",
     "text": [
      "<class 'pandas.core.frame.DataFrame'>\n",
      "RangeIndex: 438557 entries, 0 to 438556\n",
      "Data columns (total 18 columns):\n",
      " #   Column               Non-Null Count   Dtype  \n",
      "---  ------               --------------   -----  \n",
      " 0   ID                   438557 non-null  int64  \n",
      " 1   CODE_GENDER          438557 non-null  object \n",
      " 2   FLAG_OWN_CAR         438557 non-null  object \n",
      " 3   FLAG_OWN_REALTY      438557 non-null  object \n",
      " 4   CNT_CHILDREN         438557 non-null  int64  \n",
      " 5   AMT_INCOME_TOTAL     438557 non-null  float64\n",
      " 6   NAME_INCOME_TYPE     438557 non-null  object \n",
      " 7   NAME_EDUCATION_TYPE  438557 non-null  object \n",
      " 8   NAME_FAMILY_STATUS   438557 non-null  object \n",
      " 9   NAME_HOUSING_TYPE    438557 non-null  object \n",
      " 10  DAYS_BIRTH           438557 non-null  int64  \n",
      " 11  DAYS_EMPLOYED        438557 non-null  int64  \n",
      " 12  FLAG_MOBIL           438557 non-null  int64  \n",
      " 13  FLAG_WORK_PHONE      438557 non-null  int64  \n",
      " 14  FLAG_PHONE           438557 non-null  int64  \n",
      " 15  FLAG_EMAIL           438557 non-null  int64  \n",
      " 16  OCCUPATION_TYPE      304354 non-null  object \n",
      " 17  CNT_FAM_MEMBERS      438557 non-null  float64\n",
      "dtypes: float64(2), int64(8), object(8)\n",
      "memory usage: 60.2+ MB\n",
      "<class 'pandas.core.frame.DataFrame'>\n",
      "RangeIndex: 1048575 entries, 0 to 1048574\n",
      "Data columns (total 3 columns):\n",
      " #   Column          Non-Null Count    Dtype \n",
      "---  ------          --------------    ----- \n",
      " 0   ID              1048575 non-null  int64 \n",
      " 1   MONTHS_BALANCE  1048575 non-null  int64 \n",
      " 2   STATUS          1048575 non-null  object\n",
      "dtypes: int64(2), object(1)\n",
      "memory usage: 24.0+ MB\n"
     ]
    },
    {
     "data": {
      "text/plain": [
       "ID                          0\n",
       "CODE_GENDER                 0\n",
       "FLAG_OWN_CAR                0\n",
       "FLAG_OWN_REALTY             0\n",
       "CNT_CHILDREN                0\n",
       "AMT_INCOME_TOTAL            0\n",
       "NAME_INCOME_TYPE            0\n",
       "NAME_EDUCATION_TYPE         0\n",
       "NAME_FAMILY_STATUS          0\n",
       "NAME_HOUSING_TYPE           0\n",
       "DAYS_BIRTH                  0\n",
       "DAYS_EMPLOYED               0\n",
       "FLAG_MOBIL                  0\n",
       "FLAG_WORK_PHONE             0\n",
       "FLAG_PHONE                  0\n",
       "FLAG_EMAIL                  0\n",
       "OCCUPATION_TYPE        134203\n",
       "CNT_FAM_MEMBERS             0\n",
       "dtype: int64"
      ]
     },
<<<<<<< HEAD
     "execution_count": 7,
=======
     "execution_count": 5,
>>>>>>> d1f8d51b4470dd546ec473a7dc32c47c58eacef8
     "metadata": {},
     "output_type": "execute_result"
    }
   ],
   "source": [
    "app_record_df.info()\n",
    "credit_record_df.info()\n",
    "\n",
    "app_record_df.isna().sum()"
   ]
  },
  {
   "cell_type": "code",
<<<<<<< HEAD
   "execution_count": 8,
=======
   "execution_count": 6,
>>>>>>> d1f8d51b4470dd546ec473a7dc32c47c58eacef8
   "id": "f7f7bde4",
   "metadata": {},
   "outputs": [
    {
     "data": {
      "text/plain": [
       "ID                0\n",
       "MONTHS_BALANCE    0\n",
       "STATUS            0\n",
       "dtype: int64"
      ]
     },
<<<<<<< HEAD
     "execution_count": 8,
=======
     "execution_count": 6,
>>>>>>> d1f8d51b4470dd546ec473a7dc32c47c58eacef8
     "metadata": {},
     "output_type": "execute_result"
    }
   ],
   "source": [
    "credit_record_df.isna().sum()"
   ]
  },
  {
   "cell_type": "code",
<<<<<<< HEAD
   "execution_count": 9,
=======
   "execution_count": 7,
>>>>>>> d1f8d51b4470dd546ec473a7dc32c47c58eacef8
   "id": "9931f425",
   "metadata": {},
   "outputs": [
    {
     "data": {
      "text/plain": [
       "ID                          0\n",
       "CODE_GENDER                 0\n",
       "FLAG_OWN_CAR                0\n",
       "FLAG_OWN_REALTY             0\n",
       "CNT_CHILDREN                0\n",
       "AMT_INCOME_TOTAL            0\n",
       "NAME_INCOME_TYPE            0\n",
       "NAME_EDUCATION_TYPE         0\n",
       "NAME_FAMILY_STATUS          0\n",
       "NAME_HOUSING_TYPE           0\n",
       "DAYS_BIRTH                  0\n",
       "DAYS_EMPLOYED               0\n",
       "FLAG_MOBIL                  0\n",
       "FLAG_WORK_PHONE             0\n",
       "FLAG_PHONE                  0\n",
       "FLAG_EMAIL                  0\n",
       "OCCUPATION_TYPE        134203\n",
       "CNT_FAM_MEMBERS             0\n",
       "dtype: int64"
      ]
     },
<<<<<<< HEAD
     "execution_count": 9,
=======
     "execution_count": 7,
>>>>>>> d1f8d51b4470dd546ec473a7dc32c47c58eacef8
     "metadata": {},
     "output_type": "execute_result"
    }
   ],
   "source": [
    "app_record_df.isnull().sum()"
   ]
  },
  {
   "cell_type": "code",
<<<<<<< HEAD
   "execution_count": 10,
=======
   "execution_count": 8,
>>>>>>> d1f8d51b4470dd546ec473a7dc32c47c58eacef8
   "id": "e6652272",
   "metadata": {},
   "outputs": [
    {
     "data": {
      "text/plain": [
       "ID                0\n",
       "MONTHS_BALANCE    0\n",
       "STATUS            0\n",
       "dtype: int64"
      ]
     },
<<<<<<< HEAD
     "execution_count": 10,
=======
     "execution_count": 8,
>>>>>>> d1f8d51b4470dd546ec473a7dc32c47c58eacef8
     "metadata": {},
     "output_type": "execute_result"
    }
   ],
   "source": [
    "credit_record_df.isnull().sum()"
   ]
  },
  {
   "cell_type": "code",
<<<<<<< HEAD
   "execution_count": 73,
   "id": "68afc886",
=======
   "execution_count": 9,
   "id": "7cfcadd8",
>>>>>>> d1f8d51b4470dd546ec473a7dc32c47c58eacef8
   "metadata": {},
   "outputs": [
    {
     "name": "stdout",
     "output_type": "stream",
     "text": [
      "The number of unique record for application record = 438510\n"
     ]
    }
   ],
   "source": [
    "#check if there are duplicate record\n",
    "print ( \"The number of unique record for application record = \" + str(app_record_df[\"ID\"].nunique() ))\n",
<<<<<<< HEAD
    "#print ( \"The number of unique record for credit record = \" + str(credit_record_df[\"ID\"].nunique() ))"
=======
    "#print ( \"The number of unique record for credit record = \" + str(credit_record_df[\"ID\"].nunique() ))\n"
>>>>>>> d1f8d51b4470dd546ec473a7dc32c47c58eacef8
   ]
  },
  {
   "cell_type": "code",
<<<<<<< HEAD
   "execution_count": 13,
=======
   "execution_count": 10,
   "id": "20f912a5",
   "metadata": {},
   "outputs": [
    {
     "name": "stdout",
     "output_type": "stream",
     "text": [
      "The number of common record = 36457\n"
     ]
    }
   ],
   "source": [
    "# check  how many records match in two csv files\n",
    "\n",
    "print( \"The number of common record = \" + str(len(set(credit_record_df[\"ID\"]).intersection(set(app_record_df['ID'])))))"
   ]
  },
  {
   "cell_type": "code",
   "execution_count": null,
   "id": "43bad326",
   "metadata": {},
   "outputs": [],
   "source": []
  },
  {
   "cell_type": "code",
   "execution_count": null,
   "id": "0ff46e6e",
   "metadata": {},
   "outputs": [],
   "source": []
  },
  {
   "cell_type": "code",
   "execution_count": 11,
>>>>>>> d1f8d51b4470dd546ec473a7dc32c47c58eacef8
   "id": "91415cde",
   "metadata": {},
   "outputs": [],
   "source": [
    "#start cleaning the data"
   ]
  },
  {
   "cell_type": "code",
<<<<<<< HEAD
   "execution_count": 14,
=======
   "execution_count": 12,
>>>>>>> d1f8d51b4470dd546ec473a7dc32c47c58eacef8
   "id": "a422d786",
   "metadata": {},
   "outputs": [],
   "source": [
    "#drop duplicate record\n",
    "app_record_df_clean = app_record_df.drop_duplicates(subset=['ID'])\n",
    "#credit_record_df_clean = credit_record_df.drop_duplicates(subset=['ID'])"
   ]
  },
  {
   "cell_type": "code",
<<<<<<< HEAD
   "execution_count": 16,
=======
   "execution_count": 13,
>>>>>>> d1f8d51b4470dd546ec473a7dc32c47c58eacef8
   "id": "5f6a5dc1",
   "metadata": {},
   "outputs": [
    {
     "name": "stdout",
     "output_type": "stream",
     "text": [
      "<class 'pandas.core.frame.DataFrame'>\n",
      "Int64Index: 438510 entries, 0 to 438556\n",
      "Data columns (total 18 columns):\n",
      " #   Column               Non-Null Count   Dtype  \n",
      "---  ------               --------------   -----  \n",
      " 0   ID                   438510 non-null  int64  \n",
      " 1   CODE_GENDER          438510 non-null  object \n",
      " 2   FLAG_OWN_CAR         438510 non-null  object \n",
      " 3   FLAG_OWN_REALTY      438510 non-null  object \n",
      " 4   CNT_CHILDREN         438510 non-null  int64  \n",
      " 5   AMT_INCOME_TOTAL     438510 non-null  float64\n",
      " 6   NAME_INCOME_TYPE     438510 non-null  object \n",
      " 7   NAME_EDUCATION_TYPE  438510 non-null  object \n",
      " 8   NAME_FAMILY_STATUS   438510 non-null  object \n",
      " 9   NAME_HOUSING_TYPE    438510 non-null  object \n",
      " 10  DAYS_BIRTH           438510 non-null  int64  \n",
      " 11  DAYS_EMPLOYED        438510 non-null  int64  \n",
      " 12  FLAG_MOBIL           438510 non-null  int64  \n",
      " 13  FLAG_WORK_PHONE      438510 non-null  int64  \n",
      " 14  FLAG_PHONE           438510 non-null  int64  \n",
      " 15  FLAG_EMAIL           438510 non-null  int64  \n",
      " 16  OCCUPATION_TYPE      304317 non-null  object \n",
      " 17  CNT_FAM_MEMBERS      438510 non-null  float64\n",
      "dtypes: float64(2), int64(8), object(8)\n",
<<<<<<< HEAD
      "memory usage: 63.6+ MB\n",
      "<class 'pandas.core.frame.DataFrame'>\n",
      "RangeIndex: 1048575 entries, 0 to 1048574\n",
      "Data columns (total 3 columns):\n",
      " #   Column          Non-Null Count    Dtype \n",
      "---  ------          --------------    ----- \n",
      " 0   ID              1048575 non-null  int64 \n",
      " 1   MONTHS_BALANCE  1048575 non-null  int64 \n",
      " 2   STATUS          1048575 non-null  object\n",
      "dtypes: int64(2), object(1)\n",
      "memory usage: 24.0+ MB\n"
=======
      "memory usage: 63.6+ MB\n"
     ]
    },
    {
     "ename": "NameError",
     "evalue": "name 'credit_record_df_clean' is not defined",
     "output_type": "error",
     "traceback": [
      "\u001b[0;31m---------------------------------------------------------------------------\u001b[0m",
      "\u001b[0;31mNameError\u001b[0m                                 Traceback (most recent call last)",
      "\u001b[0;32m/var/folders/p9/yb_gdg0972903ybtlr_z57bh0000gp/T/ipykernel_46743/2429308180.py\u001b[0m in \u001b[0;36m<module>\u001b[0;34m\u001b[0m\n\u001b[1;32m      1\u001b[0m \u001b[0mapp_record_df_clean\u001b[0m\u001b[0;34m.\u001b[0m\u001b[0minfo\u001b[0m\u001b[0;34m(\u001b[0m\u001b[0;34m)\u001b[0m\u001b[0;34m\u001b[0m\u001b[0;34m\u001b[0m\u001b[0m\n\u001b[0;32m----> 2\u001b[0;31m \u001b[0mcredit_record_df_clean\u001b[0m\u001b[0;34m.\u001b[0m\u001b[0minfo\u001b[0m\u001b[0;34m(\u001b[0m\u001b[0;34m)\u001b[0m\u001b[0;34m\u001b[0m\u001b[0;34m\u001b[0m\u001b[0m\n\u001b[0m",
      "\u001b[0;31mNameError\u001b[0m: name 'credit_record_df_clean' is not defined"
>>>>>>> d1f8d51b4470dd546ec473a7dc32c47c58eacef8
     ]
    }
   ],
   "source": [
    "app_record_df_clean.info()\n",
    "credit_record_df.info()"
   ]
  },
  {
   "cell_type": "code",
<<<<<<< HEAD
   "execution_count": 17,
=======
   "execution_count": null,
>>>>>>> d1f8d51b4470dd546ec473a7dc32c47c58eacef8
   "id": "1c977e07",
   "metadata": {},
   "outputs": [],
   "source": [
    "# we have seen occupation type has 134203 record with NULL/NA, we should drop this column as no meaningful insight \n",
    "#can be generated from this data attribute\n",
    "app_record_df_clean.drop('OCCUPATION_TYPE', axis=1, inplace=True) "
   ]
  },
  {
   "cell_type": "code",
<<<<<<< HEAD
   "execution_count": 18,
=======
   "execution_count": 14,
>>>>>>> d1f8d51b4470dd546ec473a7dc32c47c58eacef8
   "id": "1cc63e19",
   "metadata": {},
   "outputs": [
    {
     "name": "stdout",
     "output_type": "stream",
     "text": [
      "<class 'pandas.core.frame.DataFrame'>\n",
      "Int64Index: 438510 entries, 0 to 438556\n",
      "Data columns (total 18 columns):\n",
      " #   Column               Non-Null Count   Dtype  \n",
      "---  ------               --------------   -----  \n",
      " 0   ID                   438510 non-null  int64  \n",
      " 1   CODE_GENDER          438510 non-null  object \n",
      " 2   FLAG_OWN_CAR         438510 non-null  object \n",
      " 3   FLAG_OWN_REALTY      438510 non-null  object \n",
      " 4   CNT_CHILDREN         438510 non-null  int64  \n",
      " 5   AMT_INCOME_TOTAL     438510 non-null  float64\n",
      " 6   NAME_INCOME_TYPE     438510 non-null  object \n",
      " 7   NAME_EDUCATION_TYPE  438510 non-null  object \n",
      " 8   NAME_FAMILY_STATUS   438510 non-null  object \n",
      " 9   NAME_HOUSING_TYPE    438510 non-null  object \n",
      " 10  DAYS_BIRTH           438510 non-null  int64  \n",
      " 11  DAYS_EMPLOYED        438510 non-null  int64  \n",
      " 12  FLAG_MOBIL           438510 non-null  int64  \n",
      " 13  FLAG_WORK_PHONE      438510 non-null  int64  \n",
      " 14  FLAG_PHONE           438510 non-null  int64  \n",
      " 15  FLAG_EMAIL           438510 non-null  int64  \n",
      " 16  OCCUPATION_TYPE      304317 non-null  object \n",
      " 17  CNT_FAM_MEMBERS      438510 non-null  float64\n",
      "dtypes: float64(2), int64(8), object(8)\n",
      "memory usage: 63.6+ MB\n"
     ]
    }
   ],
   "source": [
    "app_record_df_clean.info()"
   ]
  },
  {
   "cell_type": "code",
<<<<<<< HEAD
   "execution_count": 19,
=======
   "execution_count": 15,
>>>>>>> d1f8d51b4470dd546ec473a7dc32c47c58eacef8
   "id": "22f8d167",
   "metadata": {},
   "outputs": [
    {
     "data": {
      "text/html": [
       "<div>\n",
       "<style scoped>\n",
       "    .dataframe tbody tr th:only-of-type {\n",
       "        vertical-align: middle;\n",
       "    }\n",
       "\n",
       "    .dataframe tbody tr th {\n",
       "        vertical-align: top;\n",
       "    }\n",
       "\n",
       "    .dataframe thead th {\n",
       "        text-align: right;\n",
       "    }\n",
       "</style>\n",
       "<table border=\"1\" class=\"dataframe\">\n",
       "  <thead>\n",
       "    <tr style=\"text-align: right;\">\n",
       "      <th></th>\n",
       "      <th>ID</th>\n",
       "      <th>CODE_GENDER</th>\n",
       "      <th>FLAG_OWN_CAR</th>\n",
       "      <th>FLAG_OWN_REALTY</th>\n",
       "      <th>CNT_CHILDREN</th>\n",
       "      <th>AMT_INCOME_TOTAL</th>\n",
       "      <th>NAME_INCOME_TYPE</th>\n",
       "      <th>NAME_EDUCATION_TYPE</th>\n",
       "      <th>NAME_FAMILY_STATUS</th>\n",
       "      <th>NAME_HOUSING_TYPE</th>\n",
       "      <th>DAYS_BIRTH</th>\n",
       "      <th>DAYS_EMPLOYED</th>\n",
       "      <th>FLAG_MOBIL</th>\n",
       "      <th>FLAG_WORK_PHONE</th>\n",
       "      <th>FLAG_PHONE</th>\n",
       "      <th>FLAG_EMAIL</th>\n",
       "      <th>OCCUPATION_TYPE</th>\n",
       "      <th>CNT_FAM_MEMBERS</th>\n",
       "    </tr>\n",
       "  </thead>\n",
       "  <tbody>\n",
       "    <tr>\n",
       "      <th>0</th>\n",
       "      <td>5008804</td>\n",
       "      <td>M</td>\n",
       "      <td>Y</td>\n",
       "      <td>Y</td>\n",
       "      <td>0</td>\n",
       "      <td>427500.0</td>\n",
       "      <td>Working</td>\n",
       "      <td>Higher education</td>\n",
       "      <td>Civil marriage</td>\n",
       "      <td>Rented apartment</td>\n",
       "      <td>-12005</td>\n",
       "      <td>-4542</td>\n",
       "      <td>1</td>\n",
       "      <td>1</td>\n",
       "      <td>0</td>\n",
       "      <td>0</td>\n",
       "      <td>NaN</td>\n",
       "      <td>2.0</td>\n",
       "    </tr>\n",
       "    <tr>\n",
       "      <th>1</th>\n",
       "      <td>5008805</td>\n",
       "      <td>M</td>\n",
       "      <td>Y</td>\n",
       "      <td>Y</td>\n",
       "      <td>0</td>\n",
       "      <td>427500.0</td>\n",
       "      <td>Working</td>\n",
       "      <td>Higher education</td>\n",
       "      <td>Civil marriage</td>\n",
       "      <td>Rented apartment</td>\n",
       "      <td>-12005</td>\n",
       "      <td>-4542</td>\n",
       "      <td>1</td>\n",
       "      <td>1</td>\n",
       "      <td>0</td>\n",
       "      <td>0</td>\n",
       "      <td>NaN</td>\n",
       "      <td>2.0</td>\n",
       "    </tr>\n",
       "    <tr>\n",
       "      <th>2</th>\n",
       "      <td>5008806</td>\n",
       "      <td>M</td>\n",
       "      <td>Y</td>\n",
       "      <td>Y</td>\n",
       "      <td>0</td>\n",
       "      <td>112500.0</td>\n",
       "      <td>Working</td>\n",
       "      <td>Secondary / secondary special</td>\n",
       "      <td>Married</td>\n",
       "      <td>House / apartment</td>\n",
       "      <td>-21474</td>\n",
       "      <td>-1134</td>\n",
       "      <td>1</td>\n",
       "      <td>0</td>\n",
       "      <td>0</td>\n",
       "      <td>0</td>\n",
       "      <td>Security staff</td>\n",
       "      <td>2.0</td>\n",
       "    </tr>\n",
       "    <tr>\n",
       "      <th>3</th>\n",
       "      <td>5008808</td>\n",
       "      <td>F</td>\n",
       "      <td>N</td>\n",
       "      <td>Y</td>\n",
       "      <td>0</td>\n",
       "      <td>270000.0</td>\n",
       "      <td>Commercial associate</td>\n",
       "      <td>Secondary / secondary special</td>\n",
       "      <td>Single / not married</td>\n",
       "      <td>House / apartment</td>\n",
       "      <td>-19110</td>\n",
       "      <td>-3051</td>\n",
       "      <td>1</td>\n",
       "      <td>0</td>\n",
       "      <td>1</td>\n",
       "      <td>1</td>\n",
       "      <td>Sales staff</td>\n",
       "      <td>1.0</td>\n",
       "    </tr>\n",
       "    <tr>\n",
       "      <th>4</th>\n",
       "      <td>5008809</td>\n",
       "      <td>F</td>\n",
       "      <td>N</td>\n",
       "      <td>Y</td>\n",
       "      <td>0</td>\n",
       "      <td>270000.0</td>\n",
       "      <td>Commercial associate</td>\n",
       "      <td>Secondary / secondary special</td>\n",
       "      <td>Single / not married</td>\n",
       "      <td>House / apartment</td>\n",
       "      <td>-19110</td>\n",
       "      <td>-3051</td>\n",
       "      <td>1</td>\n",
       "      <td>0</td>\n",
       "      <td>1</td>\n",
       "      <td>1</td>\n",
       "      <td>Sales staff</td>\n",
       "      <td>1.0</td>\n",
       "    </tr>\n",
       "  </tbody>\n",
       "</table>\n",
       "</div>"
      ],
      "text/plain": [
       "        ID CODE_GENDER FLAG_OWN_CAR FLAG_OWN_REALTY  CNT_CHILDREN  \\\n",
       "0  5008804           M            Y               Y             0   \n",
       "1  5008805           M            Y               Y             0   \n",
       "2  5008806           M            Y               Y             0   \n",
       "3  5008808           F            N               Y             0   \n",
       "4  5008809           F            N               Y             0   \n",
       "\n",
       "   AMT_INCOME_TOTAL      NAME_INCOME_TYPE            NAME_EDUCATION_TYPE  \\\n",
       "0          427500.0               Working               Higher education   \n",
       "1          427500.0               Working               Higher education   \n",
       "2          112500.0               Working  Secondary / secondary special   \n",
       "3          270000.0  Commercial associate  Secondary / secondary special   \n",
       "4          270000.0  Commercial associate  Secondary / secondary special   \n",
       "\n",
       "     NAME_FAMILY_STATUS  NAME_HOUSING_TYPE  DAYS_BIRTH  DAYS_EMPLOYED  \\\n",
       "0        Civil marriage   Rented apartment      -12005          -4542   \n",
       "1        Civil marriage   Rented apartment      -12005          -4542   \n",
       "2               Married  House / apartment      -21474          -1134   \n",
       "3  Single / not married  House / apartment      -19110          -3051   \n",
       "4  Single / not married  House / apartment      -19110          -3051   \n",
       "\n",
       "   FLAG_MOBIL  FLAG_WORK_PHONE  FLAG_PHONE  FLAG_EMAIL OCCUPATION_TYPE  \\\n",
       "0           1                1           0           0             NaN   \n",
       "1           1                1           0           0             NaN   \n",
       "2           1                0           0           0  Security staff   \n",
       "3           1                0           1           1     Sales staff   \n",
       "4           1                0           1           1     Sales staff   \n",
       "\n",
       "   CNT_FAM_MEMBERS  \n",
       "0              2.0  \n",
       "1              2.0  \n",
       "2              2.0  \n",
       "3              1.0  \n",
       "4              1.0  "
      ]
     },
<<<<<<< HEAD
     "execution_count": 19,
=======
     "execution_count": 15,
>>>>>>> d1f8d51b4470dd546ec473a7dc32c47c58eacef8
     "metadata": {},
     "output_type": "execute_result"
    }
   ],
   "source": [
    "app_record_df_clean.head()"
   ]
  },
  {
   "cell_type": "code",
<<<<<<< HEAD
   "execution_count": 20,
=======
   "execution_count": 16,
>>>>>>> d1f8d51b4470dd546ec473a7dc32c47c58eacef8
   "id": "1b379f01",
   "metadata": {},
   "outputs": [],
   "source": [
    "replace_dict_gender= {'M':1,'F':0}\n",
    "replace_dict_yes_no = {'Y':1,'N':0}\n",
    "\n",
    "\n",
    "app_record_df_clean2 = app_record_df_clean.copy()\n",
    "\n",
    "app_record_df_clean2['CODE_GENDER']=app_record_df_clean2['CODE_GENDER'].map(replace_dict_gender)\n",
    "app_record_df_clean2['FLAG_OWN_CAR']=app_record_df_clean2['FLAG_OWN_CAR'].map(replace_dict_yes_no)\n",
    "app_record_df_clean2['FLAG_OWN_REALTY']=app_record_df_clean2['FLAG_OWN_REALTY'].map(replace_dict_yes_no)\n",
    "\n",
    "#app_record_df_clean2 = app_record_df_clean.copy()\n",
    "#qpp_record_df_clean2['CODE_GENDER'].replace(0, 'F',inplace=True)\n",
    "#app_record_df_clean2['CODE_GENDER'].replace(1, 'M',inplace=True)\n"
   ]
  },
  {
   "cell_type": "code",
<<<<<<< HEAD
   "execution_count": 21,
=======
   "execution_count": 17,
>>>>>>> d1f8d51b4470dd546ec473a7dc32c47c58eacef8
   "id": "fb289824",
   "metadata": {},
   "outputs": [
    {
     "data": {
      "text/html": [
       "<div>\n",
       "<style scoped>\n",
       "    .dataframe tbody tr th:only-of-type {\n",
       "        vertical-align: middle;\n",
       "    }\n",
       "\n",
       "    .dataframe tbody tr th {\n",
       "        vertical-align: top;\n",
       "    }\n",
       "\n",
       "    .dataframe thead th {\n",
       "        text-align: right;\n",
       "    }\n",
       "</style>\n",
       "<table border=\"1\" class=\"dataframe\">\n",
       "  <thead>\n",
       "    <tr style=\"text-align: right;\">\n",
       "      <th></th>\n",
       "      <th>ID</th>\n",
       "      <th>CODE_GENDER</th>\n",
       "      <th>FLAG_OWN_CAR</th>\n",
       "      <th>FLAG_OWN_REALTY</th>\n",
       "      <th>CNT_CHILDREN</th>\n",
       "      <th>AMT_INCOME_TOTAL</th>\n",
       "      <th>NAME_INCOME_TYPE</th>\n",
       "      <th>NAME_EDUCATION_TYPE</th>\n",
       "      <th>NAME_FAMILY_STATUS</th>\n",
       "      <th>NAME_HOUSING_TYPE</th>\n",
       "      <th>DAYS_BIRTH</th>\n",
       "      <th>DAYS_EMPLOYED</th>\n",
       "      <th>FLAG_MOBIL</th>\n",
       "      <th>FLAG_WORK_PHONE</th>\n",
       "      <th>FLAG_PHONE</th>\n",
       "      <th>FLAG_EMAIL</th>\n",
       "      <th>OCCUPATION_TYPE</th>\n",
       "      <th>CNT_FAM_MEMBERS</th>\n",
       "    </tr>\n",
       "  </thead>\n",
       "  <tbody>\n",
       "    <tr>\n",
       "      <th>0</th>\n",
       "      <td>5008804</td>\n",
       "      <td>1</td>\n",
       "      <td>1</td>\n",
       "      <td>1</td>\n",
       "      <td>0</td>\n",
       "      <td>427500.0</td>\n",
       "      <td>Working</td>\n",
       "      <td>Higher education</td>\n",
       "      <td>Civil marriage</td>\n",
       "      <td>Rented apartment</td>\n",
       "      <td>-12005</td>\n",
       "      <td>-4542</td>\n",
       "      <td>1</td>\n",
       "      <td>1</td>\n",
       "      <td>0</td>\n",
       "      <td>0</td>\n",
       "      <td>NaN</td>\n",
       "      <td>2.0</td>\n",
       "    </tr>\n",
       "    <tr>\n",
       "      <th>1</th>\n",
       "      <td>5008805</td>\n",
       "      <td>1</td>\n",
       "      <td>1</td>\n",
       "      <td>1</td>\n",
       "      <td>0</td>\n",
       "      <td>427500.0</td>\n",
       "      <td>Working</td>\n",
       "      <td>Higher education</td>\n",
       "      <td>Civil marriage</td>\n",
       "      <td>Rented apartment</td>\n",
       "      <td>-12005</td>\n",
       "      <td>-4542</td>\n",
       "      <td>1</td>\n",
       "      <td>1</td>\n",
       "      <td>0</td>\n",
       "      <td>0</td>\n",
       "      <td>NaN</td>\n",
       "      <td>2.0</td>\n",
       "    </tr>\n",
       "    <tr>\n",
       "      <th>2</th>\n",
       "      <td>5008806</td>\n",
       "      <td>1</td>\n",
       "      <td>1</td>\n",
       "      <td>1</td>\n",
       "      <td>0</td>\n",
       "      <td>112500.0</td>\n",
       "      <td>Working</td>\n",
       "      <td>Secondary / secondary special</td>\n",
       "      <td>Married</td>\n",
       "      <td>House / apartment</td>\n",
       "      <td>-21474</td>\n",
       "      <td>-1134</td>\n",
       "      <td>1</td>\n",
       "      <td>0</td>\n",
       "      <td>0</td>\n",
       "      <td>0</td>\n",
       "      <td>Security staff</td>\n",
       "      <td>2.0</td>\n",
       "    </tr>\n",
       "    <tr>\n",
       "      <th>3</th>\n",
       "      <td>5008808</td>\n",
       "      <td>0</td>\n",
       "      <td>0</td>\n",
       "      <td>1</td>\n",
       "      <td>0</td>\n",
       "      <td>270000.0</td>\n",
       "      <td>Commercial associate</td>\n",
       "      <td>Secondary / secondary special</td>\n",
       "      <td>Single / not married</td>\n",
       "      <td>House / apartment</td>\n",
       "      <td>-19110</td>\n",
       "      <td>-3051</td>\n",
       "      <td>1</td>\n",
       "      <td>0</td>\n",
       "      <td>1</td>\n",
       "      <td>1</td>\n",
       "      <td>Sales staff</td>\n",
       "      <td>1.0</td>\n",
       "    </tr>\n",
       "    <tr>\n",
       "      <th>4</th>\n",
       "      <td>5008809</td>\n",
       "      <td>0</td>\n",
       "      <td>0</td>\n",
       "      <td>1</td>\n",
       "      <td>0</td>\n",
       "      <td>270000.0</td>\n",
       "      <td>Commercial associate</td>\n",
       "      <td>Secondary / secondary special</td>\n",
       "      <td>Single / not married</td>\n",
       "      <td>House / apartment</td>\n",
       "      <td>-19110</td>\n",
       "      <td>-3051</td>\n",
       "      <td>1</td>\n",
       "      <td>0</td>\n",
       "      <td>1</td>\n",
       "      <td>1</td>\n",
       "      <td>Sales staff</td>\n",
       "      <td>1.0</td>\n",
       "    </tr>\n",
       "  </tbody>\n",
       "</table>\n",
       "</div>"
      ],
      "text/plain": [
       "        ID  CODE_GENDER  FLAG_OWN_CAR  FLAG_OWN_REALTY  CNT_CHILDREN  \\\n",
       "0  5008804            1             1                1             0   \n",
       "1  5008805            1             1                1             0   \n",
       "2  5008806            1             1                1             0   \n",
       "3  5008808            0             0                1             0   \n",
       "4  5008809            0             0                1             0   \n",
       "\n",
       "   AMT_INCOME_TOTAL      NAME_INCOME_TYPE            NAME_EDUCATION_TYPE  \\\n",
       "0          427500.0               Working               Higher education   \n",
       "1          427500.0               Working               Higher education   \n",
       "2          112500.0               Working  Secondary / secondary special   \n",
       "3          270000.0  Commercial associate  Secondary / secondary special   \n",
       "4          270000.0  Commercial associate  Secondary / secondary special   \n",
       "\n",
       "     NAME_FAMILY_STATUS  NAME_HOUSING_TYPE  DAYS_BIRTH  DAYS_EMPLOYED  \\\n",
       "0        Civil marriage   Rented apartment      -12005          -4542   \n",
       "1        Civil marriage   Rented apartment      -12005          -4542   \n",
       "2               Married  House / apartment      -21474          -1134   \n",
       "3  Single / not married  House / apartment      -19110          -3051   \n",
       "4  Single / not married  House / apartment      -19110          -3051   \n",
       "\n",
       "   FLAG_MOBIL  FLAG_WORK_PHONE  FLAG_PHONE  FLAG_EMAIL OCCUPATION_TYPE  \\\n",
       "0           1                1           0           0             NaN   \n",
       "1           1                1           0           0             NaN   \n",
       "2           1                0           0           0  Security staff   \n",
       "3           1                0           1           1     Sales staff   \n",
       "4           1                0           1           1     Sales staff   \n",
       "\n",
       "   CNT_FAM_MEMBERS  \n",
       "0              2.0  \n",
       "1              2.0  \n",
       "2              2.0  \n",
       "3              1.0  \n",
       "4              1.0  "
      ]
     },
<<<<<<< HEAD
     "execution_count": 21,
=======
     "execution_count": 17,
>>>>>>> d1f8d51b4470dd546ec473a7dc32c47c58eacef8
     "metadata": {},
     "output_type": "execute_result"
    }
   ],
   "source": [
    "app_record_df_clean2.head()"
   ]
  },
  {
   "cell_type": "code",
<<<<<<< HEAD
   "execution_count": 22,
=======
   "execution_count": 18,
>>>>>>> d1f8d51b4470dd546ec473a7dc32c47c58eacef8
   "id": "0a649dcb",
   "metadata": {},
   "outputs": [
    {
     "name": "stdout",
     "output_type": "stream",
     "text": [
      "['Working' 'Working' 'Working' ... 'Commercial associate' 'Pensioner'\n",
      " 'Working']\n"
     ]
    }
   ],
   "source": [
    "#find out possible value for NAME_INCOME_TYPE\n",
    "\n",
    "name_income_type_list = app_record_df_clean2['NAME_INCOME_TYPE'].to_numpy()\n",
    "print(name_income_type_list)"
   ]
  },
  {
   "cell_type": "code",
<<<<<<< HEAD
   "execution_count": 23,
=======
   "execution_count": 19,
>>>>>>> d1f8d51b4470dd546ec473a7dc32c47c58eacef8
   "id": "94128188",
   "metadata": {},
   "outputs": [
    {
     "name": "stdout",
     "output_type": "stream",
     "text": [
      "['Working', 'Commercial associate', 'Pensioner', 'State servant', 'Student']\n"
     ]
    }
   ],
   "source": [
    "output = []\n",
    "for x in name_income_type_list:\n",
    "    if x not in output:\n",
    "        output.append(x)\n",
    "print(output)"
   ]
  },
  {
   "cell_type": "code",
<<<<<<< HEAD
   "execution_count": 24,
=======
   "execution_count": 20,
>>>>>>> d1f8d51b4470dd546ec473a7dc32c47c58eacef8
   "id": "af883c5d",
   "metadata": {},
   "outputs": [
    {
     "name": "stdout",
     "output_type": "stream",
     "text": [
      "['Working', 'Commercial associate', 'Pensioner', 'State servant', 'Student']\n",
      "['Higher education', 'Secondary / secondary special', 'Incomplete higher', 'Lower secondary', 'Academic degree']\n",
      "['Civil marriage', 'Married', 'Single / not married', 'Separated', 'Widow']\n",
      "['Rented apartment', 'House / apartment', 'Municipal apartment', 'With parents', 'Co-op apartment', 'Office apartment']\n"
     ]
    }
   ],
   "source": [
    "#define a function to print out all possible values of a column from a dataframe\n",
    "def printallvalues (inputlist):\n",
    "    output = []\n",
    "    for x in inputlist:\n",
    "        if x not in output:\n",
    "            output.append(x)\n",
    "    print(output)\n",
    "\n",
    "printallvalues(app_record_df_clean2['NAME_INCOME_TYPE'].to_numpy())\n",
    "printallvalues(app_record_df_clean2['NAME_EDUCATION_TYPE'].to_numpy())\n",
    "printallvalues(app_record_df_clean2['NAME_FAMILY_STATUS'].to_numpy())\n",
    "printallvalues(app_record_df_clean2['NAME_HOUSING_TYPE'].to_numpy())"
   ]
  },
  {
   "cell_type": "code",
<<<<<<< HEAD
   "execution_count": 25,
=======
   "execution_count": 21,
>>>>>>> d1f8d51b4470dd546ec473a7dc32c47c58eacef8
   "id": "e3247dc7",
   "metadata": {},
   "outputs": [],
   "source": [
    "replace_dict_Income_type = {'Working':0,'Commercial associate':1,'Pensioner':2, 'State servant':3, 'Student':4}\n",
    "replace_dict_education_type= {'Higher education':0,'Secondary / secondary special':1,'Incomplete higher':2, 'Lower secondary':3, 'Academic degree':4}\n",
    "replace_dict_family_status= {'Civil marriage':0,'Married':1,'Single / not married':2, 'Separated':3, 'Widow':4}\n",
    "replace_dict_housing_type= {'Rented apartment':0,'House / apartment':1,'Municipal apartment':2, 'With parents':3, 'Co-op apartment':4, 'Office apartment':5}\n",
    "\n",
    "\n",
    "app_record_df_clean2['NAME_INCOME_TYPE']=app_record_df_clean2['NAME_INCOME_TYPE'].map(replace_dict_Income_type)\n",
    "app_record_df_clean2['NAME_EDUCATION_TYPE']=app_record_df_clean2['NAME_EDUCATION_TYPE'].map(replace_dict_education_type)\n",
    "app_record_df_clean2['NAME_FAMILY_STATUS']=app_record_df_clean2['NAME_FAMILY_STATUS'].map(replace_dict_family_status)\n",
    "app_record_df_clean2['NAME_HOUSING_TYPE']=app_record_df_clean2['NAME_HOUSING_TYPE'].map(replace_dict_housing_type)\n",
    "\n",
    "\n"
   ]
  },
  {
   "cell_type": "code",
<<<<<<< HEAD
   "execution_count": 26,
=======
   "execution_count": 22,
>>>>>>> d1f8d51b4470dd546ec473a7dc32c47c58eacef8
   "id": "a579686a",
   "metadata": {},
   "outputs": [
    {
     "data": {
      "text/html": [
       "<div>\n",
       "<style scoped>\n",
       "    .dataframe tbody tr th:only-of-type {\n",
       "        vertical-align: middle;\n",
       "    }\n",
       "\n",
       "    .dataframe tbody tr th {\n",
       "        vertical-align: top;\n",
       "    }\n",
       "\n",
       "    .dataframe thead th {\n",
       "        text-align: right;\n",
       "    }\n",
       "</style>\n",
       "<table border=\"1\" class=\"dataframe\">\n",
       "  <thead>\n",
       "    <tr style=\"text-align: right;\">\n",
       "      <th></th>\n",
       "      <th>ID</th>\n",
       "      <th>CODE_GENDER</th>\n",
       "      <th>FLAG_OWN_CAR</th>\n",
       "      <th>FLAG_OWN_REALTY</th>\n",
       "      <th>CNT_CHILDREN</th>\n",
       "      <th>AMT_INCOME_TOTAL</th>\n",
       "      <th>NAME_INCOME_TYPE</th>\n",
       "      <th>NAME_EDUCATION_TYPE</th>\n",
       "      <th>NAME_FAMILY_STATUS</th>\n",
       "      <th>NAME_HOUSING_TYPE</th>\n",
       "      <th>DAYS_BIRTH</th>\n",
       "      <th>DAYS_EMPLOYED</th>\n",
       "      <th>FLAG_MOBIL</th>\n",
       "      <th>FLAG_WORK_PHONE</th>\n",
       "      <th>FLAG_PHONE</th>\n",
       "      <th>FLAG_EMAIL</th>\n",
<<<<<<< HEAD
=======
       "      <th>OCCUPATION_TYPE</th>\n",
>>>>>>> d1f8d51b4470dd546ec473a7dc32c47c58eacef8
       "      <th>CNT_FAM_MEMBERS</th>\n",
       "    </tr>\n",
       "  </thead>\n",
       "  <tbody>\n",
       "    <tr>\n",
       "      <th>0</th>\n",
       "      <td>5008804</td>\n",
       "      <td>1</td>\n",
       "      <td>1</td>\n",
       "      <td>1</td>\n",
       "      <td>0</td>\n",
       "      <td>427500.0</td>\n",
       "      <td>0</td>\n",
       "      <td>0</td>\n",
       "      <td>0</td>\n",
       "      <td>0</td>\n",
       "      <td>-12005</td>\n",
       "      <td>-4542</td>\n",
       "      <td>1</td>\n",
       "      <td>1</td>\n",
       "      <td>0</td>\n",
       "      <td>0</td>\n",
<<<<<<< HEAD
=======
       "      <td>NaN</td>\n",
>>>>>>> d1f8d51b4470dd546ec473a7dc32c47c58eacef8
       "      <td>2.0</td>\n",
       "    </tr>\n",
       "    <tr>\n",
       "      <th>1</th>\n",
       "      <td>5008805</td>\n",
       "      <td>1</td>\n",
       "      <td>1</td>\n",
       "      <td>1</td>\n",
       "      <td>0</td>\n",
       "      <td>427500.0</td>\n",
       "      <td>0</td>\n",
       "      <td>0</td>\n",
       "      <td>0</td>\n",
       "      <td>0</td>\n",
       "      <td>-12005</td>\n",
       "      <td>-4542</td>\n",
       "      <td>1</td>\n",
       "      <td>1</td>\n",
       "      <td>0</td>\n",
       "      <td>0</td>\n",
<<<<<<< HEAD
=======
       "      <td>NaN</td>\n",
>>>>>>> d1f8d51b4470dd546ec473a7dc32c47c58eacef8
       "      <td>2.0</td>\n",
       "    </tr>\n",
       "    <tr>\n",
       "      <th>2</th>\n",
       "      <td>5008806</td>\n",
       "      <td>1</td>\n",
       "      <td>1</td>\n",
       "      <td>1</td>\n",
       "      <td>0</td>\n",
       "      <td>112500.0</td>\n",
       "      <td>0</td>\n",
       "      <td>1</td>\n",
       "      <td>1</td>\n",
       "      <td>1</td>\n",
       "      <td>-21474</td>\n",
       "      <td>-1134</td>\n",
       "      <td>1</td>\n",
       "      <td>0</td>\n",
       "      <td>0</td>\n",
       "      <td>0</td>\n",
<<<<<<< HEAD
=======
       "      <td>Security staff</td>\n",
>>>>>>> d1f8d51b4470dd546ec473a7dc32c47c58eacef8
       "      <td>2.0</td>\n",
       "    </tr>\n",
       "    <tr>\n",
       "      <th>3</th>\n",
       "      <td>5008808</td>\n",
       "      <td>0</td>\n",
       "      <td>0</td>\n",
       "      <td>1</td>\n",
       "      <td>0</td>\n",
       "      <td>270000.0</td>\n",
       "      <td>1</td>\n",
       "      <td>1</td>\n",
       "      <td>2</td>\n",
       "      <td>1</td>\n",
       "      <td>-19110</td>\n",
       "      <td>-3051</td>\n",
       "      <td>1</td>\n",
       "      <td>0</td>\n",
       "      <td>1</td>\n",
       "      <td>1</td>\n",
<<<<<<< HEAD
=======
       "      <td>Sales staff</td>\n",
>>>>>>> d1f8d51b4470dd546ec473a7dc32c47c58eacef8
       "      <td>1.0</td>\n",
       "    </tr>\n",
       "    <tr>\n",
       "      <th>4</th>\n",
       "      <td>5008809</td>\n",
       "      <td>0</td>\n",
       "      <td>0</td>\n",
       "      <td>1</td>\n",
       "      <td>0</td>\n",
       "      <td>270000.0</td>\n",
       "      <td>1</td>\n",
       "      <td>1</td>\n",
       "      <td>2</td>\n",
       "      <td>1</td>\n",
       "      <td>-19110</td>\n",
       "      <td>-3051</td>\n",
       "      <td>1</td>\n",
       "      <td>0</td>\n",
       "      <td>1</td>\n",
       "      <td>1</td>\n",
<<<<<<< HEAD
=======
       "      <td>Sales staff</td>\n",
>>>>>>> d1f8d51b4470dd546ec473a7dc32c47c58eacef8
       "      <td>1.0</td>\n",
       "    </tr>\n",
       "  </tbody>\n",
       "</table>\n",
       "</div>"
      ],
      "text/plain": [
       "        ID  CODE_GENDER  FLAG_OWN_CAR  FLAG_OWN_REALTY  CNT_CHILDREN  \\\n",
       "0  5008804            1             1                1             0   \n",
       "1  5008805            1             1                1             0   \n",
       "2  5008806            1             1                1             0   \n",
       "3  5008808            0             0                1             0   \n",
       "4  5008809            0             0                1             0   \n",
       "\n",
       "   AMT_INCOME_TOTAL  NAME_INCOME_TYPE  NAME_EDUCATION_TYPE  \\\n",
       "0          427500.0                 0                    0   \n",
       "1          427500.0                 0                    0   \n",
       "2          112500.0                 0                    1   \n",
       "3          270000.0                 1                    1   \n",
       "4          270000.0                 1                    1   \n",
       "\n",
       "   NAME_FAMILY_STATUS  NAME_HOUSING_TYPE  DAYS_BIRTH  DAYS_EMPLOYED  \\\n",
       "0                   0                  0      -12005          -4542   \n",
       "1                   0                  0      -12005          -4542   \n",
       "2                   1                  1      -21474          -1134   \n",
       "3                   2                  1      -19110          -3051   \n",
       "4                   2                  1      -19110          -3051   \n",
       "\n",
<<<<<<< HEAD
       "   FLAG_MOBIL  FLAG_WORK_PHONE  FLAG_PHONE  FLAG_EMAIL  CNT_FAM_MEMBERS  \n",
       "0           1                1           0           0              2.0  \n",
       "1           1                1           0           0              2.0  \n",
       "2           1                0           0           0              2.0  \n",
       "3           1                0           1           1              1.0  \n",
       "4           1                0           1           1              1.0  "
      ]
     },
     "execution_count": 26,
=======
       "   FLAG_MOBIL  FLAG_WORK_PHONE  FLAG_PHONE  FLAG_EMAIL OCCUPATION_TYPE  \\\n",
       "0           1                1           0           0             NaN   \n",
       "1           1                1           0           0             NaN   \n",
       "2           1                0           0           0  Security staff   \n",
       "3           1                0           1           1     Sales staff   \n",
       "4           1                0           1           1     Sales staff   \n",
       "\n",
       "   CNT_FAM_MEMBERS  \n",
       "0              2.0  \n",
       "1              2.0  \n",
       "2              2.0  \n",
       "3              1.0  \n",
       "4              1.0  "
      ]
     },
     "execution_count": 22,
>>>>>>> d1f8d51b4470dd546ec473a7dc32c47c58eacef8
     "metadata": {},
     "output_type": "execute_result"
    }
   ],
   "source": [
    "app_record_df_clean2.head()"
   ]
  },
  {
   "cell_type": "code",
<<<<<<< HEAD
   "execution_count": 27,
=======
   "execution_count": 23,
>>>>>>> d1f8d51b4470dd546ec473a7dc32c47c58eacef8
   "id": "6472b827",
   "metadata": {},
   "outputs": [
    {
     "name": "stdout",
     "output_type": "stream",
     "text": [
      "<class 'pandas.core.frame.DataFrame'>\n",
      "Int64Index: 438510 entries, 0 to 438556\n",
<<<<<<< HEAD
      "Data columns (total 17 columns):\n",
=======
      "Data columns (total 18 columns):\n",
>>>>>>> d1f8d51b4470dd546ec473a7dc32c47c58eacef8
      " #   Column               Non-Null Count   Dtype  \n",
      "---  ------               --------------   -----  \n",
      " 0   ID                   438510 non-null  int64  \n",
      " 1   CODE_GENDER          438510 non-null  int64  \n",
      " 2   FLAG_OWN_CAR         438510 non-null  int64  \n",
      " 3   FLAG_OWN_REALTY      438510 non-null  int64  \n",
      " 4   CNT_CHILDREN         438510 non-null  int64  \n",
      " 5   AMT_INCOME_TOTAL     438510 non-null  float64\n",
      " 6   NAME_INCOME_TYPE     438510 non-null  int64  \n",
      " 7   NAME_EDUCATION_TYPE  438510 non-null  int64  \n",
      " 8   NAME_FAMILY_STATUS   438510 non-null  int64  \n",
      " 9   NAME_HOUSING_TYPE    438510 non-null  int64  \n",
      " 10  DAYS_BIRTH           438510 non-null  int64  \n",
      " 11  DAYS_EMPLOYED        438510 non-null  int64  \n",
      " 12  FLAG_MOBIL           438510 non-null  int64  \n",
      " 13  FLAG_WORK_PHONE      438510 non-null  int64  \n",
      " 14  FLAG_PHONE           438510 non-null  int64  \n",
      " 15  FLAG_EMAIL           438510 non-null  int64  \n",
<<<<<<< HEAD
      " 16  CNT_FAM_MEMBERS      438510 non-null  float64\n",
      "dtypes: float64(2), int64(15)\n",
      "memory usage: 60.2 MB\n"
=======
      " 16  OCCUPATION_TYPE      304317 non-null  object \n",
      " 17  CNT_FAM_MEMBERS      438510 non-null  float64\n",
      "dtypes: float64(2), int64(15), object(1)\n",
      "memory usage: 63.6+ MB\n"
>>>>>>> d1f8d51b4470dd546ec473a7dc32c47c58eacef8
     ]
    }
   ],
   "source": [
    "app_record_df_clean2.info()"
   ]
  },
  {
   "cell_type": "code",
<<<<<<< HEAD
   "execution_count": 28,
=======
   "execution_count": 24,
>>>>>>> d1f8d51b4470dd546ec473a7dc32c47c58eacef8
   "id": "2aea41a5",
   "metadata": {},
   "outputs": [
    {
     "data": {
      "text/html": [
       "<div>\n",
       "<style scoped>\n",
       "    .dataframe tbody tr th:only-of-type {\n",
       "        vertical-align: middle;\n",
       "    }\n",
       "\n",
       "    .dataframe tbody tr th {\n",
       "        vertical-align: top;\n",
       "    }\n",
       "\n",
       "    .dataframe thead th {\n",
       "        text-align: right;\n",
       "    }\n",
       "</style>\n",
       "<table border=\"1\" class=\"dataframe\">\n",
       "  <thead>\n",
       "    <tr style=\"text-align: right;\">\n",
       "      <th></th>\n",
       "      <th>ID</th>\n",
       "      <th>MONTHS_BALANCE</th>\n",
       "      <th>STATUS</th>\n",
       "    </tr>\n",
       "  </thead>\n",
       "  <tbody>\n",
       "    <tr>\n",
       "      <th>0</th>\n",
       "      <td>5001711</td>\n",
       "      <td>0</td>\n",
       "      <td>X</td>\n",
       "    </tr>\n",
       "    <tr>\n",
       "      <th>1</th>\n",
       "      <td>5001711</td>\n",
       "      <td>-1</td>\n",
       "      <td>0</td>\n",
       "    </tr>\n",
       "    <tr>\n",
       "      <th>2</th>\n",
       "      <td>5001711</td>\n",
       "      <td>-2</td>\n",
       "      <td>0</td>\n",
       "    </tr>\n",
       "    <tr>\n",
       "      <th>3</th>\n",
       "      <td>5001711</td>\n",
       "      <td>-3</td>\n",
       "      <td>0</td>\n",
       "    </tr>\n",
       "    <tr>\n",
       "      <th>4</th>\n",
       "      <td>5001712</td>\n",
       "      <td>0</td>\n",
       "      <td>C</td>\n",
       "    </tr>\n",
       "  </tbody>\n",
       "</table>\n",
       "</div>"
      ],
      "text/plain": [
       "        ID  MONTHS_BALANCE STATUS\n",
       "0  5001711               0      X\n",
       "1  5001711              -1      0\n",
       "2  5001711              -2      0\n",
       "3  5001711              -3      0\n",
       "4  5001712               0      C"
      ]
     },
<<<<<<< HEAD
     "execution_count": 28,
=======
     "execution_count": 24,
>>>>>>> d1f8d51b4470dd546ec473a7dc32c47c58eacef8
     "metadata": {},
     "output_type": "execute_result"
    }
   ],
   "source": [
    "credit_record_df.head()\n",
    "\n"
   ]
  },
  {
   "cell_type": "code",
<<<<<<< HEAD
   "execution_count": 29,
=======
   "execution_count": 25,
>>>>>>> d1f8d51b4470dd546ec473a7dc32c47c58eacef8
   "id": "57ee267f",
   "metadata": {},
   "outputs": [],
   "source": [
    "credit_record_df['MONTHS_FROM_TODAY'] = credit_record_df['MONTHS_BALANCE']*-1\n",
    "credit_record_df = credit_record_df.sort_values(['ID','MONTHS_FROM_TODAY'], ascending=True)\n"
   ]
  },
  {
   "cell_type": "code",
<<<<<<< HEAD
   "execution_count": 30,
=======
   "execution_count": 26,
>>>>>>> d1f8d51b4470dd546ec473a7dc32c47c58eacef8
   "id": "2ef492f3",
   "metadata": {},
   "outputs": [
    {
     "name": "stdout",
     "output_type": "stream",
     "text": [
      "[0, -1, -2, -3, -4, -5, -6, -7, -8, -9, -10, -11, -12, -13, -14, -15, -16, -17, -18, -19, -20, -21, -22, -23, -24, -25, -26, -27, -28, -29, -30, -31, -32, -33, -34, -35, -36, -37, -38, -39, -40, -41, -42, -43, -44, -45, -46, -47, -48, -49, -50, -51, -52, -53, -54, -55, -56, -57, -58, -59, -60]\n",
      "['X', '0', 'C', '1', '2', '3', '4', '5']\n"
     ]
    }
   ],
   "source": [
    "printallvalues(credit_record_df['MONTHS_BALANCE'].to_numpy())\n",
    "printallvalues(credit_record_df['STATUS'].to_numpy())"
   ]
  },
  {
   "cell_type": "code",
<<<<<<< HEAD
   "execution_count": 48,
   "id": "e84e6115",
   "metadata": {},
   "outputs": [],
   "source": [
    "#start cleaning credit record\n",
    "#from above, we know status code has X and C which needs to be mapped to 0, x means no loan, C means paid off\n",
    "#use regex to grab x and c \n",
    "def update_status (text):\n",
    "    regex = \"[A-Z]\"\n",
    "    #if re.finall(regex,str(text))\n",
    "    return re.sub(regex, '0', str(text))\n",
    "\n",
    "#string = \"3\"\n",
    "#Test = update_status(string)\n",
    "#print (test)\n",
    "credit_record_df[\"STATUS\"] = credit_record_df[\"STATUS\"].apply(update_status)"
   ]
  },
  {
   "cell_type": "code",
   "execution_count": 49,
   "id": "45d3b26d",
   "metadata": {},
   "outputs": [
    {
     "name": "stdout",
     "output_type": "stream",
     "text": [
      "['0', '1', '2', '3', '4', '5']\n"
     ]
    }
   ],
   "source": [
    "printallvalues(credit_record_df['STATUS'].to_numpy())"
   ]
  },
  {
   "cell_type": "code",
   "execution_count": 50,
=======
   "execution_count": 27,
>>>>>>> d1f8d51b4470dd546ec473a7dc32c47c58eacef8
   "id": "3fb20aca",
   "metadata": {},
   "outputs": [],
   "source": [
<<<<<<< HEAD
    "replace_dict_status = {'1':0,'2':1,'3':1,'4':1,'5':1}\n",
=======
    "#start cleaning credit record\n",
    "#from above, we know status code has X and C which needs to be mapped to 0\n",
    "replace_dict_status = {'X':0,'C':0,'1':0,'2':1,'3':1,'4':1,'5':1}\n",
>>>>>>> d1f8d51b4470dd546ec473a7dc32c47c58eacef8
    "credit_record_df['STATUS'].replace(replace_dict_status, inplace=True)\n",
    "#credit_record_df['STATUS']=credit_record_df['STATUS'].map(replace_dict_status)\n",
    "#change STATUS column to integer\n",
    "credit_record_df['STATUS'] = credit_record_df['STATUS'].astype('int')\n",
    "\n",
    "#credit_record_df['STATUS'] = credit_record_df['STATUS'].apply(lambda x:1 if x >= 2 else 0)"
   ]
  },
  {
   "cell_type": "code",
   "execution_count": null,
   "id": "62008679",
   "metadata": {},
   "outputs": [],
   "source": []
  },
  {
   "cell_type": "code",
   "execution_count": null,
   "id": "c43c510a",
   "metadata": {},
   "outputs": [],
   "source": []
  },
  {
   "cell_type": "code",
<<<<<<< HEAD
   "execution_count": 51,
=======
   "execution_count": 28,
>>>>>>> d1f8d51b4470dd546ec473a7dc32c47c58eacef8
   "id": "ac59cf80",
   "metadata": {},
   "outputs": [
    {
     "data": {
      "text/html": [
       "<div>\n",
       "<style scoped>\n",
       "    .dataframe tbody tr th:only-of-type {\n",
       "        vertical-align: middle;\n",
       "    }\n",
       "\n",
       "    .dataframe tbody tr th {\n",
       "        vertical-align: top;\n",
       "    }\n",
       "\n",
       "    .dataframe thead th {\n",
       "        text-align: right;\n",
       "    }\n",
       "</style>\n",
       "<table border=\"1\" class=\"dataframe\">\n",
       "  <thead>\n",
       "    <tr style=\"text-align: right;\">\n",
       "      <th></th>\n",
       "      <th>ID</th>\n",
       "      <th>MONTHS_BALANCE</th>\n",
       "      <th>STATUS</th>\n",
       "      <th>MONTHS_FROM_TODAY</th>\n",
       "    </tr>\n",
       "  </thead>\n",
       "  <tbody>\n",
       "    <tr>\n",
       "      <th>0</th>\n",
       "      <td>5001711</td>\n",
       "      <td>0</td>\n",
       "      <td>0</td>\n",
       "      <td>3</td>\n",
       "    </tr>\n",
       "    <tr>\n",
       "      <th>1</th>\n",
       "      <td>5001712</td>\n",
       "      <td>0</td>\n",
       "      <td>0</td>\n",
       "      <td>18</td>\n",
       "    </tr>\n",
       "    <tr>\n",
       "      <th>2</th>\n",
       "      <td>5001713</td>\n",
       "      <td>0</td>\n",
       "      <td>0</td>\n",
       "      <td>21</td>\n",
       "    </tr>\n",
       "    <tr>\n",
       "      <th>3</th>\n",
       "      <td>5001714</td>\n",
       "      <td>0</td>\n",
       "      <td>0</td>\n",
       "      <td>14</td>\n",
       "    </tr>\n",
       "    <tr>\n",
       "      <th>4</th>\n",
       "      <td>5001715</td>\n",
       "      <td>0</td>\n",
       "      <td>0</td>\n",
       "      <td>59</td>\n",
       "    </tr>\n",
       "  </tbody>\n",
       "</table>\n",
       "</div>"
      ],
      "text/plain": [
       "        ID  MONTHS_BALANCE  STATUS  MONTHS_FROM_TODAY\n",
       "0  5001711               0       0                  3\n",
       "1  5001712               0       0                 18\n",
       "2  5001713               0       0                 21\n",
       "3  5001714               0       0                 14\n",
       "4  5001715               0       0                 59"
      ]
     },
<<<<<<< HEAD
     "execution_count": 51,
=======
     "execution_count": 28,
>>>>>>> d1f8d51b4470dd546ec473a7dc32c47c58eacef8
     "metadata": {},
     "output_type": "execute_result"
    }
   ],
   "source": [
    "credit_record_df_clean = credit_record_df.groupby('ID').agg(max).reset_index()\n",
    "credit_record_df_clean.head() "
   ]
  },
  {
   "cell_type": "code",
<<<<<<< HEAD
   "execution_count": 52,
=======
   "execution_count": 29,
>>>>>>> d1f8d51b4470dd546ec473a7dc32c47c58eacef8
   "id": "d2ca78f7",
   "metadata": {},
   "outputs": [
    {
     "name": "stdout",
     "output_type": "stream",
     "text": [
      "[0, 1]\n"
     ]
    }
   ],
   "source": [
    "printallvalues(credit_record_df['STATUS'].to_numpy())"
   ]
  },
  {
   "cell_type": "code",
<<<<<<< HEAD
   "execution_count": 53,
=======
   "execution_count": 30,
>>>>>>> d1f8d51b4470dd546ec473a7dc32c47c58eacef8
   "id": "082cd176",
   "metadata": {},
   "outputs": [
    {
     "data": {
      "text/plain": [
       "0    0.985495\n",
       "1    0.014505\n",
       "Name: STATUS, dtype: float64"
      ]
     },
<<<<<<< HEAD
     "execution_count": 53,
=======
     "execution_count": 30,
>>>>>>> d1f8d51b4470dd546ec473a7dc32c47c58eacef8
     "metadata": {},
     "output_type": "execute_result"
    }
   ],
   "source": [
    "credit_record_df_clean['STATUS'].value_counts(normalize=True) "
   ]
  },
  {
   "cell_type": "code",
<<<<<<< HEAD
   "execution_count": 54,
=======
   "execution_count": 31,
>>>>>>> d1f8d51b4470dd546ec473a7dc32c47c58eacef8
   "id": "20348640",
   "metadata": {},
   "outputs": [
    {
     "data": {
      "text/html": [
       "<div>\n",
       "<style scoped>\n",
       "    .dataframe tbody tr th:only-of-type {\n",
       "        vertical-align: middle;\n",
       "    }\n",
       "\n",
       "    .dataframe tbody tr th {\n",
       "        vertical-align: top;\n",
       "    }\n",
       "\n",
       "    .dataframe thead th {\n",
       "        text-align: right;\n",
       "    }\n",
       "</style>\n",
       "<table border=\"1\" class=\"dataframe\">\n",
       "  <thead>\n",
       "    <tr style=\"text-align: right;\">\n",
       "      <th></th>\n",
       "      <th>ID</th>\n",
       "      <th>CODE_GENDER</th>\n",
       "      <th>FLAG_OWN_CAR</th>\n",
       "      <th>FLAG_OWN_REALTY</th>\n",
       "      <th>CNT_CHILDREN</th>\n",
       "      <th>AMT_INCOME_TOTAL</th>\n",
       "      <th>NAME_INCOME_TYPE</th>\n",
       "      <th>NAME_EDUCATION_TYPE</th>\n",
       "      <th>NAME_FAMILY_STATUS</th>\n",
       "      <th>NAME_HOUSING_TYPE</th>\n",
       "      <th>DAYS_BIRTH</th>\n",
       "      <th>DAYS_EMPLOYED</th>\n",
       "      <th>FLAG_MOBIL</th>\n",
       "      <th>FLAG_WORK_PHONE</th>\n",
       "      <th>FLAG_PHONE</th>\n",
       "      <th>FLAG_EMAIL</th>\n",
<<<<<<< HEAD
=======
       "      <th>OCCUPATION_TYPE</th>\n",
>>>>>>> d1f8d51b4470dd546ec473a7dc32c47c58eacef8
       "      <th>CNT_FAM_MEMBERS</th>\n",
       "      <th>STATUS</th>\n",
       "    </tr>\n",
       "  </thead>\n",
       "  <tbody>\n",
       "    <tr>\n",
       "      <th>0</th>\n",
       "      <td>5008804</td>\n",
       "      <td>1</td>\n",
       "      <td>1</td>\n",
       "      <td>1</td>\n",
       "      <td>0</td>\n",
       "      <td>427500.0</td>\n",
       "      <td>0</td>\n",
       "      <td>0</td>\n",
       "      <td>0</td>\n",
       "      <td>0</td>\n",
       "      <td>-12005</td>\n",
       "      <td>-4542</td>\n",
       "      <td>1</td>\n",
       "      <td>1</td>\n",
       "      <td>0</td>\n",
       "      <td>0</td>\n",
<<<<<<< HEAD
=======
       "      <td>NaN</td>\n",
>>>>>>> d1f8d51b4470dd546ec473a7dc32c47c58eacef8
       "      <td>2.0</td>\n",
       "      <td>0</td>\n",
       "    </tr>\n",
       "    <tr>\n",
       "      <th>1</th>\n",
       "      <td>5008805</td>\n",
       "      <td>1</td>\n",
       "      <td>1</td>\n",
       "      <td>1</td>\n",
       "      <td>0</td>\n",
       "      <td>427500.0</td>\n",
       "      <td>0</td>\n",
       "      <td>0</td>\n",
       "      <td>0</td>\n",
       "      <td>0</td>\n",
       "      <td>-12005</td>\n",
       "      <td>-4542</td>\n",
       "      <td>1</td>\n",
       "      <td>1</td>\n",
       "      <td>0</td>\n",
       "      <td>0</td>\n",
<<<<<<< HEAD
=======
       "      <td>NaN</td>\n",
>>>>>>> d1f8d51b4470dd546ec473a7dc32c47c58eacef8
       "      <td>2.0</td>\n",
       "      <td>0</td>\n",
       "    </tr>\n",
       "    <tr>\n",
       "      <th>2</th>\n",
       "      <td>5008806</td>\n",
       "      <td>1</td>\n",
       "      <td>1</td>\n",
       "      <td>1</td>\n",
       "      <td>0</td>\n",
       "      <td>112500.0</td>\n",
       "      <td>0</td>\n",
       "      <td>1</td>\n",
       "      <td>1</td>\n",
       "      <td>1</td>\n",
       "      <td>-21474</td>\n",
       "      <td>-1134</td>\n",
       "      <td>1</td>\n",
       "      <td>0</td>\n",
       "      <td>0</td>\n",
       "      <td>0</td>\n",
<<<<<<< HEAD
=======
       "      <td>Security staff</td>\n",
>>>>>>> d1f8d51b4470dd546ec473a7dc32c47c58eacef8
       "      <td>2.0</td>\n",
       "      <td>0</td>\n",
       "    </tr>\n",
       "    <tr>\n",
       "      <th>3</th>\n",
       "      <td>5008808</td>\n",
       "      <td>0</td>\n",
       "      <td>0</td>\n",
       "      <td>1</td>\n",
       "      <td>0</td>\n",
       "      <td>270000.0</td>\n",
       "      <td>1</td>\n",
       "      <td>1</td>\n",
       "      <td>2</td>\n",
       "      <td>1</td>\n",
       "      <td>-19110</td>\n",
       "      <td>-3051</td>\n",
       "      <td>1</td>\n",
       "      <td>0</td>\n",
       "      <td>1</td>\n",
       "      <td>1</td>\n",
<<<<<<< HEAD
=======
       "      <td>Sales staff</td>\n",
>>>>>>> d1f8d51b4470dd546ec473a7dc32c47c58eacef8
       "      <td>1.0</td>\n",
       "      <td>0</td>\n",
       "    </tr>\n",
       "    <tr>\n",
       "      <th>4</th>\n",
       "      <td>5008809</td>\n",
       "      <td>0</td>\n",
       "      <td>0</td>\n",
       "      <td>1</td>\n",
       "      <td>0</td>\n",
       "      <td>270000.0</td>\n",
       "      <td>1</td>\n",
       "      <td>1</td>\n",
       "      <td>2</td>\n",
       "      <td>1</td>\n",
       "      <td>-19110</td>\n",
       "      <td>-3051</td>\n",
       "      <td>1</td>\n",
       "      <td>0</td>\n",
       "      <td>1</td>\n",
       "      <td>1</td>\n",
<<<<<<< HEAD
=======
       "      <td>Sales staff</td>\n",
>>>>>>> d1f8d51b4470dd546ec473a7dc32c47c58eacef8
       "      <td>1.0</td>\n",
       "      <td>0</td>\n",
       "    </tr>\n",
       "  </tbody>\n",
       "</table>\n",
       "</div>"
      ],
      "text/plain": [
       "        ID  CODE_GENDER  FLAG_OWN_CAR  FLAG_OWN_REALTY  CNT_CHILDREN  \\\n",
       "0  5008804            1             1                1             0   \n",
       "1  5008805            1             1                1             0   \n",
       "2  5008806            1             1                1             0   \n",
       "3  5008808            0             0                1             0   \n",
       "4  5008809            0             0                1             0   \n",
       "\n",
       "   AMT_INCOME_TOTAL  NAME_INCOME_TYPE  NAME_EDUCATION_TYPE  \\\n",
       "0          427500.0                 0                    0   \n",
       "1          427500.0                 0                    0   \n",
       "2          112500.0                 0                    1   \n",
       "3          270000.0                 1                    1   \n",
       "4          270000.0                 1                    1   \n",
       "\n",
       "   NAME_FAMILY_STATUS  NAME_HOUSING_TYPE  DAYS_BIRTH  DAYS_EMPLOYED  \\\n",
       "0                   0                  0      -12005          -4542   \n",
       "1                   0                  0      -12005          -4542   \n",
       "2                   1                  1      -21474          -1134   \n",
       "3                   2                  1      -19110          -3051   \n",
       "4                   2                  1      -19110          -3051   \n",
       "\n",
<<<<<<< HEAD
       "   FLAG_MOBIL  FLAG_WORK_PHONE  FLAG_PHONE  FLAG_EMAIL  CNT_FAM_MEMBERS  \\\n",
       "0           1                1           0           0              2.0   \n",
       "1           1                1           0           0              2.0   \n",
       "2           1                0           0           0              2.0   \n",
       "3           1                0           1           1              1.0   \n",
       "4           1                0           1           1              1.0   \n",
       "\n",
       "   STATUS  \n",
       "0       0  \n",
       "1       0  \n",
       "2       0  \n",
       "3       0  \n",
       "4       0  "
      ]
     },
     "execution_count": 54,
=======
       "   FLAG_MOBIL  FLAG_WORK_PHONE  FLAG_PHONE  FLAG_EMAIL OCCUPATION_TYPE  \\\n",
       "0           1                1           0           0             NaN   \n",
       "1           1                1           0           0             NaN   \n",
       "2           1                0           0           0  Security staff   \n",
       "3           1                0           1           1     Sales staff   \n",
       "4           1                0           1           1     Sales staff   \n",
       "\n",
       "   CNT_FAM_MEMBERS  STATUS  \n",
       "0              2.0       0  \n",
       "1              2.0       0  \n",
       "2              2.0       0  \n",
       "3              1.0       0  \n",
       "4              1.0       0  "
      ]
     },
     "execution_count": 31,
>>>>>>> d1f8d51b4470dd546ec473a7dc32c47c58eacef8
     "metadata": {},
     "output_type": "execute_result"
    }
   ],
   "source": [
    "#merge the two data set\n",
    "\n",
    "merged_df = app_record_df_clean2.join(credit_record_df_clean.set_index('ID'), on='ID', how='inner')\n",
    "merged_df.drop(['MONTHS_FROM_TODAY','MONTHS_BALANCE'], axis=1, inplace=True)\n",
    "merged_df.head()\n"
   ]
  },
  {
   "cell_type": "code",
<<<<<<< HEAD
   "execution_count": 55,
=======
   "execution_count": 32,
>>>>>>> d1f8d51b4470dd546ec473a7dc32c47c58eacef8
   "id": "40ed97e7",
   "metadata": {},
   "outputs": [
    {
     "name": "stdout",
     "output_type": "stream",
     "text": [
      "<class 'pandas.core.frame.DataFrame'>\n",
      "Int64Index: 36457 entries, 0 to 434812\n",
<<<<<<< HEAD
      "Data columns (total 18 columns):\n",
=======
      "Data columns (total 19 columns):\n",
>>>>>>> d1f8d51b4470dd546ec473a7dc32c47c58eacef8
      " #   Column               Non-Null Count  Dtype  \n",
      "---  ------               --------------  -----  \n",
      " 0   ID                   36457 non-null  int64  \n",
      " 1   CODE_GENDER          36457 non-null  int64  \n",
      " 2   FLAG_OWN_CAR         36457 non-null  int64  \n",
      " 3   FLAG_OWN_REALTY      36457 non-null  int64  \n",
      " 4   CNT_CHILDREN         36457 non-null  int64  \n",
      " 5   AMT_INCOME_TOTAL     36457 non-null  float64\n",
      " 6   NAME_INCOME_TYPE     36457 non-null  int64  \n",
      " 7   NAME_EDUCATION_TYPE  36457 non-null  int64  \n",
      " 8   NAME_FAMILY_STATUS   36457 non-null  int64  \n",
      " 9   NAME_HOUSING_TYPE    36457 non-null  int64  \n",
      " 10  DAYS_BIRTH           36457 non-null  int64  \n",
      " 11  DAYS_EMPLOYED        36457 non-null  int64  \n",
      " 12  FLAG_MOBIL           36457 non-null  int64  \n",
      " 13  FLAG_WORK_PHONE      36457 non-null  int64  \n",
      " 14  FLAG_PHONE           36457 non-null  int64  \n",
      " 15  FLAG_EMAIL           36457 non-null  int64  \n",
<<<<<<< HEAD
      " 16  CNT_FAM_MEMBERS      36457 non-null  float64\n",
      " 17  STATUS               36457 non-null  int64  \n",
      "dtypes: float64(2), int64(16)\n",
      "memory usage: 5.3 MB\n"
=======
      " 16  OCCUPATION_TYPE      25134 non-null  object \n",
      " 17  CNT_FAM_MEMBERS      36457 non-null  float64\n",
      " 18  STATUS               36457 non-null  int64  \n",
      "dtypes: float64(2), int64(16), object(1)\n",
      "memory usage: 5.6+ MB\n"
>>>>>>> d1f8d51b4470dd546ec473a7dc32c47c58eacef8
     ]
    }
   ],
   "source": [
    "merged_df.info()"
   ]
  },
  {
   "cell_type": "code",
<<<<<<< HEAD
   "execution_count": 56,
=======
   "execution_count": null,
>>>>>>> d1f8d51b4470dd546ec473a7dc32c47c58eacef8
   "id": "e155d8a1",
   "metadata": {},
   "outputs": [],
   "source": [
    "Analysis_df = merged_df\n"
   ]
  },
  {
   "cell_type": "code",
<<<<<<< HEAD
   "execution_count": 57,
=======
   "execution_count": 51,
>>>>>>> d1f8d51b4470dd546ec473a7dc32c47c58eacef8
   "id": "0a703c0a",
   "metadata": {},
   "outputs": [
    {
     "name": "stdout",
     "output_type": "stream",
     "text": [
      "0    24430\n",
      "1    12027\n",
      "Name: CODE_GENDER, dtype: int64\n",
      "% of applicant is MALE = 33%\n"
     ]
    }
   ],
   "source": [
    "print(Analysis_df['CODE_GENDER'].value_counts())\n",
    "print ('% of applicant is MALE = ' + str(round(Analysis_df['CODE_GENDER'].sum()/Analysis_df['CODE_GENDER'].shape[0]*100)) + '%')\n",
    "\n"
   ]
  },
  {
   "cell_type": "code",
<<<<<<< HEAD
   "execution_count": 58,
=======
   "execution_count": 33,
>>>>>>> d1f8d51b4470dd546ec473a7dc32c47c58eacef8
   "id": "7c6a5d9f",
   "metadata": {},
   "outputs": [
    {
     "name": "stdout",
     "output_type": "stream",
     "text": [
      "(19.951, 24.8]    0.020243\n",
      "(24.8, 29.6]      0.114930\n",
      "(29.6, 34.4]      0.139836\n",
      "(34.4, 39.2]      0.146419\n",
      "(39.2, 44.0]      0.140796\n",
      "(44.0, 48.8]      0.094166\n",
      "(48.8, 53.6]      0.109444\n",
      "(53.6, 58.4]      0.106948\n",
      "(58.4, 63.2]      0.091286\n",
      "(63.2, 68.0]      0.035933\n",
      "Name: DAYS_BIRTH, dtype: float64\n"
     ]
    },
    {
     "data": {
      "text/plain": [
       "<AxesSubplot:title={'center':'Age'}, ylabel='Frequency'>"
      ]
     },
<<<<<<< HEAD
     "execution_count": 58,
=======
     "execution_count": 33,
>>>>>>> d1f8d51b4470dd546ec473a7dc32c47c58eacef8
     "metadata": {},
     "output_type": "execute_result"
    },
    {
     "data": {
      "image/png": "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\n",
      "text/plain": [
       "<Figure size 432x288 with 1 Axes>"
      ]
     },
     "metadata": {
      "needs_background": "light"
     },
     "output_type": "display_data"
    }
   ],
   "source": [
    "#plot charts\n",
    "\n",
    "Analysis_df['DAYS_BIRTH']=-(Analysis_df['DAYS_BIRTH'])//365\n",
    "print(Analysis_df['DAYS_BIRTH'].value_counts(bins=10,normalize=True,sort=False))\n",
    "Analysis_df['DAYS_BIRTH'].plot(kind='hist',bins=20,density=True,title='Age')\n",
    "\n"
   ]
  },
  {
   "cell_type": "code",
<<<<<<< HEAD
   "execution_count": 59,
=======
   "execution_count": 57,
>>>>>>> d1f8d51b4470dd546ec473a7dc32c47c58eacef8
   "id": "54b0d2c5",
   "metadata": {},
   "outputs": [
    {
     "name": "stdout",
     "output_type": "stream",
     "text": [
      "1    24506\n",
      "0    11951\n",
      "Name: FLAG_OWN_REALTY, dtype: int64\n",
      "% of applicant owning a property = 67%\n"
     ]
    }
   ],
   "source": [
    "print(Analysis_df['FLAG_OWN_REALTY'].value_counts())\n",
    "print ('% of applicant owning a property = ' + str(round(Analysis_df['FLAG_OWN_REALTY'].sum()/Analysis_df['FLAG_OWN_REALTY'].shape[0]*100))+'%')\n"
   ]
  },
  {
   "cell_type": "code",
<<<<<<< HEAD
   "execution_count": 60,
=======
   "execution_count": 34,
>>>>>>> d1f8d51b4470dd546ec473a7dc32c47c58eacef8
   "id": "1c508861",
   "metadata": {},
   "outputs": [
    {
     "name": "stdout",
     "output_type": "stream",
     "text": [
      "(2.544, 18.18]      22460\n",
      "(18.18, 33.66]      11380\n",
      "(33.66, 49.14]       2099\n",
      "(49.14, 64.62]        274\n",
      "(64.62, 80.1]         165\n",
      "(80.1, 95.58]          58\n",
      "(95.58, 111.06]         4\n",
      "(111.06, 126.54]        3\n",
      "(126.54, 142.02]        6\n",
      "(142.02, 157.5]         8\n",
      "Name: AMT_INCOME_TOTAL, dtype: int64\n"
     ]
    },
    {
     "data": {
      "text/plain": [
       "<AxesSubplot:title={'center':'Income level'}, ylabel='Frequency'>"
      ]
     },
<<<<<<< HEAD
     "execution_count": 60,
=======
     "execution_count": 34,
>>>>>>> d1f8d51b4470dd546ec473a7dc32c47c58eacef8
     "metadata": {},
     "output_type": "execute_result"
    },
    {
     "data": {
      "image/png": "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\n",
      "text/plain": [
       "<Figure size 432x288 with 1 Axes>"
      ]
     },
     "metadata": {
      "needs_background": "light"
     },
     "output_type": "display_data"
    }
   ],
   "source": [
    "Analysis_df['AMT_INCOME_TOTAL']=Analysis_df['AMT_INCOME_TOTAL'].astype(object)\n",
    "Analysis_df['AMT_INCOME_TOTAL'] = Analysis_df['AMT_INCOME_TOTAL']/10000 \n",
    "print(Analysis_df['AMT_INCOME_TOTAL'].value_counts(bins=10,sort=False))\n",
    "Analysis_df['AMT_INCOME_TOTAL'].plot(kind='hist',bins=50,density=True,title='Income level')\n"
   ]
  },
  {
   "cell_type": "code",
<<<<<<< HEAD
   "execution_count": 61,
   "id": "6376054b",
   "metadata": {},
   "outputs": [
    {
     "name": "stdout",
     "output_type": "stream",
     "text": [
      "0    22614\n",
      "1    13843\n",
      "Name: FLAG_OWN_CAR, dtype: int64\n",
      "% of applicant owning a car = 38%\n"
     ]
    }
   ],
=======
   "execution_count": null,
   "id": "6376054b",
   "metadata": {},
   "outputs": [],
>>>>>>> d1f8d51b4470dd546ec473a7dc32c47c58eacef8
   "source": [
    "print(Analysis_df['FLAG_OWN_CAR'].value_counts())\n",
    "print ('% of applicant owning a car = ' + str(round(Analysis_df['FLAG_OWN_CAR'].sum()/Analysis_df['FLAG_OWN_CAR'].shape[0]*100))+'%')\n"
   ]
  },
  {
   "cell_type": "code",
<<<<<<< HEAD
   "execution_count": 62,
=======
   "execution_count": 236,
>>>>>>> d1f8d51b4470dd546ec473a7dc32c47c58eacef8
   "id": "71ed5da6",
   "metadata": {},
   "outputs": [],
   "source": [
    "#set x = all the data  \n",
    "DataX = merged_df.iloc[:,1:-1]\n",
    "#set y = label\n",
    "DataY = merged_df.iloc[:,-1] "
   ]
  },
  {
   "cell_type": "code",
<<<<<<< HEAD
   "execution_count": 63,
=======
   "execution_count": 237,
>>>>>>> d1f8d51b4470dd546ec473a7dc32c47c58eacef8
   "id": "ce38c2ee",
   "metadata": {},
   "outputs": [],
   "source": [
    "#split the test data and training data with 30% of test size\n",
    "\n",
    "X_train, X_test, y_train, y_test = train_test_split(DataX, DataY, test_size=0.2, random_state=42)\n"
   ]
  },
  {
   "cell_type": "code",
<<<<<<< HEAD
   "execution_count": 64,
=======
   "execution_count": 238,
>>>>>>> d1f8d51b4470dd546ec473a7dc32c47c58eacef8
   "id": "f71cdebf",
   "metadata": {},
   "outputs": [],
   "source": [
    "#scale data to [-1,1] ; increase SVM speed\n",
    "scaling = MinMaxScaler(feature_range=(-1,1)).fit(X_train)\n",
    "X_scaled = scaling.transform(X_train)\n",
    "X_test_scaled = scaling.transform(X_test)"
   ]
  },
  {
   "cell_type": "code",
<<<<<<< HEAD
   "execution_count": 65,
=======
   "execution_count": 239,
>>>>>>> d1f8d51b4470dd546ec473a7dc32c47c58eacef8
   "id": "b520f30f",
   "metadata": {},
   "outputs": [
    {
     "data": {
      "text/plain": [
       "0    0.985495\n",
       "1    0.014505\n",
       "Name: STATUS, dtype: float64"
      ]
     },
<<<<<<< HEAD
     "execution_count": 65,
=======
     "execution_count": 239,
>>>>>>> d1f8d51b4470dd546ec473a7dc32c47c58eacef8
     "metadata": {},
     "output_type": "execute_result"
    }
   ],
   "source": [
    "#test for oversampling\n",
    "credit_record_df_clean['STATUS'].value_counts(normalize=True) "
   ]
  },
  {
   "cell_type": "code",
<<<<<<< HEAD
   "execution_count": 66,
=======
   "execution_count": 240,
>>>>>>> d1f8d51b4470dd546ec473a7dc32c47c58eacef8
   "id": "cb737696",
   "metadata": {},
   "outputs": [],
   "source": [
    "#fix oversampling here\n",
    "oversample = SMOTE()\n",
    "X_balanced, y_balanced = oversample.fit_resample(X_scaled, y_train)\n",
    "X_test_balanced, y_test_balanced = oversample.fit_resample(X_test_scaled, y_test)"
   ]
  },
  {
   "cell_type": "code",
<<<<<<< HEAD
   "execution_count": 67,
=======
   "execution_count": 241,
>>>>>>> d1f8d51b4470dd546ec473a7dc32c47c58eacef8
   "id": "fab8e97c",
   "metadata": {},
   "outputs": [
    {
     "data": {
      "text/plain": [
       "0    28666\n",
       "1      499\n",
       "Name: STATUS, dtype: int64"
      ]
     },
<<<<<<< HEAD
     "execution_count": 67,
=======
     "execution_count": 241,
>>>>>>> d1f8d51b4470dd546ec473a7dc32c47c58eacef8
     "metadata": {},
     "output_type": "execute_result"
    }
   ],
   "source": [
    "y_train.value_counts()"
   ]
  },
  {
   "cell_type": "code",
<<<<<<< HEAD
   "execution_count": 68,
=======
   "execution_count": 242,
>>>>>>> d1f8d51b4470dd546ec473a7dc32c47c58eacef8
   "id": "459564bd",
   "metadata": {},
   "outputs": [
    {
     "data": {
      "text/plain": [
       "0    28666\n",
       "1    28666\n",
       "Name: STATUS, dtype: int64"
      ]
     },
<<<<<<< HEAD
     "execution_count": 68,
=======
     "execution_count": 242,
>>>>>>> d1f8d51b4470dd546ec473a7dc32c47c58eacef8
     "metadata": {},
     "output_type": "execute_result"
    }
   ],
   "source": [
    "y_balanced.value_counts()"
   ]
  },
  {
   "cell_type": "code",
<<<<<<< HEAD
   "execution_count": 69,
=======
   "execution_count": 243,
>>>>>>> d1f8d51b4470dd546ec473a7dc32c47c58eacef8
   "id": "951a4484",
   "metadata": {},
   "outputs": [
    {
     "data": {
      "text/plain": [
       "0    7175\n",
       "1     117\n",
       "Name: STATUS, dtype: int64"
      ]
     },
<<<<<<< HEAD
     "execution_count": 69,
=======
     "execution_count": 243,
>>>>>>> d1f8d51b4470dd546ec473a7dc32c47c58eacef8
     "metadata": {},
     "output_type": "execute_result"
    }
   ],
   "source": [
    "y_test.value_counts()"
   ]
  },
  {
   "cell_type": "code",
<<<<<<< HEAD
   "execution_count": 70,
=======
   "execution_count": 244,
>>>>>>> d1f8d51b4470dd546ec473a7dc32c47c58eacef8
   "id": "c733ed7a",
   "metadata": {},
   "outputs": [
    {
     "data": {
      "text/plain": [
       "0    7175\n",
       "1    7175\n",
       "Name: STATUS, dtype: int64"
      ]
     },
<<<<<<< HEAD
     "execution_count": 70,
=======
     "execution_count": 244,
>>>>>>> d1f8d51b4470dd546ec473a7dc32c47c58eacef8
     "metadata": {},
     "output_type": "execute_result"
    }
   ],
   "source": [
    "y_test_balanced.value_counts()"
   ]
  },
  {
   "cell_type": "code",
<<<<<<< HEAD
   "execution_count": 71,
=======
   "execution_count": 245,
>>>>>>> d1f8d51b4470dd546ec473a7dc32c47c58eacef8
   "id": "be6a5053",
   "metadata": {},
   "outputs": [
    {
     "data": {
      "text/html": [
<<<<<<< HEAD
       "<style>#sk-container-id-1 {color: black;background-color: white;}#sk-container-id-1 pre{padding: 0;}#sk-container-id-1 div.sk-toggleable {background-color: white;}#sk-container-id-1 label.sk-toggleable__label {cursor: pointer;display: block;width: 100%;margin-bottom: 0;padding: 0.3em;box-sizing: border-box;text-align: center;}#sk-container-id-1 label.sk-toggleable__label-arrow:before {content: \"▸\";float: left;margin-right: 0.25em;color: #696969;}#sk-container-id-1 label.sk-toggleable__label-arrow:hover:before {color: black;}#sk-container-id-1 div.sk-estimator:hover label.sk-toggleable__label-arrow:before {color: black;}#sk-container-id-1 div.sk-toggleable__content {max-height: 0;max-width: 0;overflow: hidden;text-align: left;background-color: #f0f8ff;}#sk-container-id-1 div.sk-toggleable__content pre {margin: 0.2em;color: black;border-radius: 0.25em;background-color: #f0f8ff;}#sk-container-id-1 input.sk-toggleable__control:checked~div.sk-toggleable__content {max-height: 200px;max-width: 100%;overflow: auto;}#sk-container-id-1 input.sk-toggleable__control:checked~label.sk-toggleable__label-arrow:before {content: \"▾\";}#sk-container-id-1 div.sk-estimator input.sk-toggleable__control:checked~label.sk-toggleable__label {background-color: #d4ebff;}#sk-container-id-1 div.sk-label input.sk-toggleable__control:checked~label.sk-toggleable__label {background-color: #d4ebff;}#sk-container-id-1 input.sk-hidden--visually {border: 0;clip: rect(1px 1px 1px 1px);clip: rect(1px, 1px, 1px, 1px);height: 1px;margin: -1px;overflow: hidden;padding: 0;position: absolute;width: 1px;}#sk-container-id-1 div.sk-estimator {font-family: monospace;background-color: #f0f8ff;border: 1px dotted black;border-radius: 0.25em;box-sizing: border-box;margin-bottom: 0.5em;}#sk-container-id-1 div.sk-estimator:hover {background-color: #d4ebff;}#sk-container-id-1 div.sk-parallel-item::after {content: \"\";width: 100%;border-bottom: 1px solid gray;flex-grow: 1;}#sk-container-id-1 div.sk-label:hover label.sk-toggleable__label {background-color: #d4ebff;}#sk-container-id-1 div.sk-serial::before {content: \"\";position: absolute;border-left: 1px solid gray;box-sizing: border-box;top: 0;bottom: 0;left: 50%;z-index: 0;}#sk-container-id-1 div.sk-serial {display: flex;flex-direction: column;align-items: center;background-color: white;padding-right: 0.2em;padding-left: 0.2em;position: relative;}#sk-container-id-1 div.sk-item {position: relative;z-index: 1;}#sk-container-id-1 div.sk-parallel {display: flex;align-items: stretch;justify-content: center;background-color: white;position: relative;}#sk-container-id-1 div.sk-item::before, #sk-container-id-1 div.sk-parallel-item::before {content: \"\";position: absolute;border-left: 1px solid gray;box-sizing: border-box;top: 0;bottom: 0;left: 50%;z-index: -1;}#sk-container-id-1 div.sk-parallel-item {display: flex;flex-direction: column;z-index: 1;position: relative;background-color: white;}#sk-container-id-1 div.sk-parallel-item:first-child::after {align-self: flex-end;width: 50%;}#sk-container-id-1 div.sk-parallel-item:last-child::after {align-self: flex-start;width: 50%;}#sk-container-id-1 div.sk-parallel-item:only-child::after {width: 0;}#sk-container-id-1 div.sk-dashed-wrapped {border: 1px dashed gray;margin: 0 0.4em 0.5em 0.4em;box-sizing: border-box;padding-bottom: 0.4em;background-color: white;}#sk-container-id-1 div.sk-label label {font-family: monospace;font-weight: bold;display: inline-block;line-height: 1.2em;}#sk-container-id-1 div.sk-label-container {text-align: center;}#sk-container-id-1 div.sk-container {/* jupyter's `normalize.less` sets `[hidden] { display: none; }` but bootstrap.min.css set `[hidden] { display: none !important; }` so we also need the `!important` here to be able to override the default hidden behavior on the sphinx rendered scikit-learn.org. See: https://github.com/scikit-learn/scikit-learn/issues/21755 */display: inline-block !important;position: relative;}#sk-container-id-1 div.sk-text-repr-fallback {display: none;}</style><div id=\"sk-container-id-1\" class=\"sk-top-container\"><div class=\"sk-text-repr-fallback\"><pre>SVC()</pre><b>In a Jupyter environment, please rerun this cell to show the HTML representation or trust the notebook. <br />On GitHub, the HTML representation is unable to render, please try loading this page with nbviewer.org.</b></div><div class=\"sk-container\" hidden><div class=\"sk-item\"><div class=\"sk-estimator sk-toggleable\"><input class=\"sk-toggleable__control sk-hidden--visually\" id=\"sk-estimator-id-1\" type=\"checkbox\" checked><label for=\"sk-estimator-id-1\" class=\"sk-toggleable__label sk-toggleable__label-arrow\">SVC</label><div class=\"sk-toggleable__content\"><pre>SVC()</pre></div></div></div></div></div>"
=======
       "<style>#sk-container-id-4 {color: black;background-color: white;}#sk-container-id-4 pre{padding: 0;}#sk-container-id-4 div.sk-toggleable {background-color: white;}#sk-container-id-4 label.sk-toggleable__label {cursor: pointer;display: block;width: 100%;margin-bottom: 0;padding: 0.3em;box-sizing: border-box;text-align: center;}#sk-container-id-4 label.sk-toggleable__label-arrow:before {content: \"▸\";float: left;margin-right: 0.25em;color: #696969;}#sk-container-id-4 label.sk-toggleable__label-arrow:hover:before {color: black;}#sk-container-id-4 div.sk-estimator:hover label.sk-toggleable__label-arrow:before {color: black;}#sk-container-id-4 div.sk-toggleable__content {max-height: 0;max-width: 0;overflow: hidden;text-align: left;background-color: #f0f8ff;}#sk-container-id-4 div.sk-toggleable__content pre {margin: 0.2em;color: black;border-radius: 0.25em;background-color: #f0f8ff;}#sk-container-id-4 input.sk-toggleable__control:checked~div.sk-toggleable__content {max-height: 200px;max-width: 100%;overflow: auto;}#sk-container-id-4 input.sk-toggleable__control:checked~label.sk-toggleable__label-arrow:before {content: \"▾\";}#sk-container-id-4 div.sk-estimator input.sk-toggleable__control:checked~label.sk-toggleable__label {background-color: #d4ebff;}#sk-container-id-4 div.sk-label input.sk-toggleable__control:checked~label.sk-toggleable__label {background-color: #d4ebff;}#sk-container-id-4 input.sk-hidden--visually {border: 0;clip: rect(1px 1px 1px 1px);clip: rect(1px, 1px, 1px, 1px);height: 1px;margin: -1px;overflow: hidden;padding: 0;position: absolute;width: 1px;}#sk-container-id-4 div.sk-estimator {font-family: monospace;background-color: #f0f8ff;border: 1px dotted black;border-radius: 0.25em;box-sizing: border-box;margin-bottom: 0.5em;}#sk-container-id-4 div.sk-estimator:hover {background-color: #d4ebff;}#sk-container-id-4 div.sk-parallel-item::after {content: \"\";width: 100%;border-bottom: 1px solid gray;flex-grow: 1;}#sk-container-id-4 div.sk-label:hover label.sk-toggleable__label {background-color: #d4ebff;}#sk-container-id-4 div.sk-serial::before {content: \"\";position: absolute;border-left: 1px solid gray;box-sizing: border-box;top: 0;bottom: 0;left: 50%;z-index: 0;}#sk-container-id-4 div.sk-serial {display: flex;flex-direction: column;align-items: center;background-color: white;padding-right: 0.2em;padding-left: 0.2em;position: relative;}#sk-container-id-4 div.sk-item {position: relative;z-index: 1;}#sk-container-id-4 div.sk-parallel {display: flex;align-items: stretch;justify-content: center;background-color: white;position: relative;}#sk-container-id-4 div.sk-item::before, #sk-container-id-4 div.sk-parallel-item::before {content: \"\";position: absolute;border-left: 1px solid gray;box-sizing: border-box;top: 0;bottom: 0;left: 50%;z-index: -1;}#sk-container-id-4 div.sk-parallel-item {display: flex;flex-direction: column;z-index: 1;position: relative;background-color: white;}#sk-container-id-4 div.sk-parallel-item:first-child::after {align-self: flex-end;width: 50%;}#sk-container-id-4 div.sk-parallel-item:last-child::after {align-self: flex-start;width: 50%;}#sk-container-id-4 div.sk-parallel-item:only-child::after {width: 0;}#sk-container-id-4 div.sk-dashed-wrapped {border: 1px dashed gray;margin: 0 0.4em 0.5em 0.4em;box-sizing: border-box;padding-bottom: 0.4em;background-color: white;}#sk-container-id-4 div.sk-label label {font-family: monospace;font-weight: bold;display: inline-block;line-height: 1.2em;}#sk-container-id-4 div.sk-label-container {text-align: center;}#sk-container-id-4 div.sk-container {/* jupyter's `normalize.less` sets `[hidden] { display: none; }` but bootstrap.min.css set `[hidden] { display: none !important; }` so we also need the `!important` here to be able to override the default hidden behavior on the sphinx rendered scikit-learn.org. See: https://github.com/scikit-learn/scikit-learn/issues/21755 */display: inline-block !important;position: relative;}#sk-container-id-4 div.sk-text-repr-fallback {display: none;}</style><div id=\"sk-container-id-4\" class=\"sk-top-container\"><div class=\"sk-text-repr-fallback\"><pre>SVC()</pre><b>In a Jupyter environment, please rerun this cell to show the HTML representation or trust the notebook. <br />On GitHub, the HTML representation is unable to render, please try loading this page with nbviewer.org.</b></div><div class=\"sk-container\" hidden><div class=\"sk-item\"><div class=\"sk-estimator sk-toggleable\"><input class=\"sk-toggleable__control sk-hidden--visually\" id=\"sk-estimator-id-4\" type=\"checkbox\" checked><label for=\"sk-estimator-id-4\" class=\"sk-toggleable__label sk-toggleable__label-arrow\">SVC</label><div class=\"sk-toggleable__content\"><pre>SVC()</pre></div></div></div></div></div>"
>>>>>>> d1f8d51b4470dd546ec473a7dc32c47c58eacef8
      ],
      "text/plain": [
       "SVC()"
      ]
     },
<<<<<<< HEAD
     "execution_count": 71,
=======
     "execution_count": 245,
>>>>>>> d1f8d51b4470dd546ec473a7dc32c47c58eacef8
     "metadata": {},
     "output_type": "execute_result"
    }
   ],
   "source": [
    "#machine learning\n",
    "\n",
    "clf = svm.SVC()\n",
    "clf.fit(X_balanced, y_balanced) \n"
   ]
  },
  {
   "cell_type": "code",
<<<<<<< HEAD
   "execution_count": 72,
=======
   "execution_count": 246,
>>>>>>> d1f8d51b4470dd546ec473a7dc32c47c58eacef8
   "id": "fc0efc10",
   "metadata": {},
   "outputs": [],
   "source": [
    "prediction = clf.predict(X_test_balanced)"
   ]
  },
  {
   "cell_type": "code",
<<<<<<< HEAD
   "execution_count": 76,
=======
   "execution_count": 247,
>>>>>>> d1f8d51b4470dd546ec473a7dc32c47c58eacef8
   "id": "8b033b69",
   "metadata": {},
   "outputs": [
    {
     "name": "stdout",
     "output_type": "stream",
     "text": [
      "              precision    recall  f1-score   support\n",
      "\n",
<<<<<<< HEAD
      "           0       0.67      0.69      0.68      7175\n",
      "           1       0.68      0.66      0.67      7175\n",
=======
      "           0       0.66      0.69      0.68      7175\n",
      "           1       0.68      0.65      0.66      7175\n",
>>>>>>> d1f8d51b4470dd546ec473a7dc32c47c58eacef8
      "\n",
      "    accuracy                           0.67     14350\n",
      "   macro avg       0.67      0.67      0.67     14350\n",
      "weighted avg       0.67      0.67      0.67     14350\n",
      "\n"
     ]
    }
   ],
   "source": [
    "\n",
    "print(classification_report(y_test_balanced, prediction))\n"
   ]
  },
  {
   "cell_type": "code",
<<<<<<< HEAD
   "execution_count": 77,
=======
   "execution_count": 255,
>>>>>>> d1f8d51b4470dd546ec473a7dc32c47c58eacef8
   "id": "066fd805",
   "metadata": {},
   "outputs": [],
   "source": [
    "def plot_confusion_matrix(cm, classes,\n",
    "                          normalize=False,\n",
    "                          title='Confusion matrix',\n",
    "                          cmap=plt.cm.Blues):\n",
    "    if normalize:\n",
    "        cm = cm.astype('float') / cm.sum(axis=1)[:, np.newaxis]\n",
    "        \n",
    "    print(cm)\n",
    "\n",
    "    plt.imshow(cm, interpolation='nearest', cmap=cmap)\n",
    "    plt.title(title)\n",
    "    plt.colorbar()\n",
    "    tick_marks = np.arange(len(classes))\n",
    "    plt.xticks(tick_marks, classes)\n",
    "    plt.yticks(tick_marks, classes)\n",
    "\n",
    "    fmt = '.2f' if normalize else 'd'\n",
    "    thresh = cm.max() / 2.\n",
    "    for i, j in itertools.product(range(cm.shape[0]), range(cm.shape[1])):\n",
    "        plt.text(j, i, format(cm[i, j], fmt),\n",
    "                 horizontalalignment=\"center\",\n",
    "                 color=\"white\" if cm[i, j] > thresh else \"black\")\n",
    "\n",
    "    plt.tight_layout()\n",
    "    plt.ylabel('True label')\n",
    "    plt.xlabel('Predicted label')"
   ]
  },
  {
   "cell_type": "code",
<<<<<<< HEAD
   "execution_count": 78,
=======
   "execution_count": 261,
>>>>>>> d1f8d51b4470dd546ec473a7dc32c47c58eacef8
   "id": "8ecb0d8d",
   "metadata": {},
   "outputs": [
    {
     "name": "stdout",
     "output_type": "stream",
     "text": [
<<<<<<< HEAD
      "Accuracy Score is 0.67373\n",
      "      0     1\n",
      "0  4925  2250\n",
      "1  2432  4743\n",
      "[[0.68641115 0.31358885]\n",
      " [0.3389547  0.6610453 ]]\n"
=======
      "Accuracy Score is 0.67115\n",
      "      0     1\n",
      "0  4951  2224\n",
      "1  2495  4680\n",
      "[[0.69003484 0.30996516]\n",
      " [0.34773519 0.65226481]]\n"
>>>>>>> d1f8d51b4470dd546ec473a7dc32c47c58eacef8
     ]
    },
    {
     "data": {
<<<<<<< HEAD
      "image/png": "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\n",
=======
      "image/png": "iVBORw0KGgoAAAANSUhEUgAAAVAAAAEmCAYAAAA0k8gFAAAAOXRFWHRTb2Z0d2FyZQBNYXRwbG90bGliIHZlcnNpb24zLjQuMywgaHR0cHM6Ly9tYXRwbG90bGliLm9yZy/MnkTPAAAACXBIWXMAAAsTAAALEwEAmpwYAAAmfElEQVR4nO3deZxU1Z338c+3uwERXFBEI6Ci4h5XxHENJtHgkqCZqKjRmMRRo8RkYiYxk91knomTONGMGmKM0cS4K4pKAJ9kiGL0kSUugKCICw0qNK4g2nT37/nj3sai6KW6uqpvV/f37ate1r333HPPrar+8TvnbooIzMys46qyboCZWaVyADUzK5IDqJlZkRxAzcyK5ABqZlYkB1AzsyI5gHYBSTMknZu+P1PS9BLXv5OkkFRTynoL3HZ/SfdLelvSnZ2op+SfSxYk/VnSF7Juh3WNHhFAJb0k6XVJA3LmnStpRobNalFE/Ckiju3q7Uo6Q9JsSaslvZr+oR9Rgqo/B2wLbB0RpxRbSbk+F0lj0n9c7smbv186f0aB9fxI0s3tlYuI4yLipiKbm7u9vpKukFSbfmcvSvplumyapMtaWGecpNck1Ui6Md2/z+SVuTKdf05n22g9JICmaoCvdbYSJXrS54KkbwBXAv+HJNjtAFwLjCtB9TsCz0VEQwnqKpeVwGGSts6Z9wXguVJtoAy/m+8Ao4DRwGbA0cA/0mU3AmdJUt46ZwF/yvkuniPZz+Y21gCnAC+UsJ29W0RU/At4CbgUeAPYMp13LjAjp8xhwCzg7fT/h+UsmwH8B/AosBbYFQjgQuB54F3gJ8AuwGPAO8AdQN90/UHAAyR/qG+m74fl1X9u+v4cYGb6/lvA6pzXOuDGdNkWwO+AV4FlwE+B6nRZNfALoA5YAlyUtremhc9mi7TuU9r4/PqRBNjl6etKoF+6bAxQC1wCrEjb88V02Y+B+rTdq4EvAz8Cbs6pe6fctqX7vyT9TF8Ezsz/XAr8vn6Sfl/vAtOBwa3sW3P7JwIX5Xx+tcAP2PA3chWwNP1+5wBHpvPH5u3nU238bnK/618Dd+XUfznwF0AF/KYfAL7eyrL+6edyVM68QcD7wH7p9I3pb+Q1YFA670Tgz8BM4Jys/257wqsnZVqzSX6838xfIGkr4EHgV8DWwH8DD+ZlJGcB55H8a/9yOm8scBDwTyTB7jrgTGA4sA9welquCvg9STa2A8kf09XtNTgi/isiBkbEQGBPkgB8R7r4JqCB5I/yAOBYkn8UAP6F5I/hAJIs5XNtbOZQYBNgUhtlvpvu4/7AfiRZz/dylm9HEoiHkgTJayQNiogfkmS1t6f78bu29jcdYvkVcFxEbEYSJJ9soVwh39cZwBeBIUBfWvje8/wBODt9/ylgPsk/FrlmkXwGWwG3AHdK2iQipubt534567T0u2l2CbCvpHMkHUny2X0h0mgm6a02hlEeB74h6UJJH83NNiNiLcnv5Oyc8qcCCyPiqZx57wOTgfHp9Nnp52Al0pMCKCQZxVclbZM3/wTg+Yj4Y0Q0RMStwELg0zllboyI+enydem8yyPinYiYD8wDpkfEkoh4m+Rf8gMAImJVRNwdEe9FxLskWcnHCm20pP7AvcBVETFF0rbAcSQZyJqIWAH8kg//EE4FroyIpRHxBvCfbVS/NVAXbXexzwQui4gVEbGSJLM8K2f5unT5uoiYQpKF7V7o/uVpAvaR1D8iXk0/23yFfF+/j4jncoLJ/m1tNCL+DmwlaXdaCSQRcXP6XTZExBUkmXl7+9nS76a5vveAz5P8A3Az8NWIqM1ZvmVEzGyl3v8kyVjPJEkOluUdnLoJOCX97ZDuU0tjr38Azpa0Bclv8t529sc6oEcF0IiYR9L1uTRv0fZsnB28TJJRNVvaQpWv57xf28L0QABJm0r6jaSXJb0DPAxsKam6wKb/DlgUEZen0zsCfYBX0yzlLeA3JNlW8/7ktjd/33KtAga3c4Q+//N5OZ23vo68APwe6b53RESsAU4DLiDZtwcl7VFAe5rblPt9vVZEe/4ITCAZT9woI5d0iaRn0zMK3iLJuge3U2dLv5v1IuIJkiEL8WHvol0R0RgR10TE4cCWJP8o3yBpz3T5TJIeyzhJOwMHk2TN+fXMBLYh6VE8kP6DYyXSowJo6ockXdzcP7blJEEp1w4kY4vNOnNbqktIMpVDImJz4Kh0fv4g/0YkXZqu++Wc2UuBD0jG9bZMX5tHxN7p8ldJhhGa7dDGJh4j6cqd1EaZ/M9nBzbu3hZqDbBpzvR2uQsjYlpEHAN8hCSr/G0B7Wlu07IWynbEH0nGtaek2eF6aRf72yTZ/aCI2JJknLH5O2zt99Hm70bSRSSZ7HKSYaAOi4i1EXENyfj6XjmLmoclziLpHb3e0vok2e8luPtecj0ugEbEYuB24OKc2VOA3dJTeWoknUbyQ3ygRJvdjCQjfSsdv/thIStJOi5t50m5mUFEvEpyYOQKSZtLqpK0i6TmYYE7gIslDZM0iI0zbnLqeptkaOMaSSel2XIfScdJ+q+02K3A9yRtI2lwWr7dU3Za8SRwlKQd0m7jd3L2d1tJn0nHQj8gGQpobKGOsnxfEfEiSTf2uy0s3oxkzHklUCPpB8DmOctfB3bqyJF2SbuRHPz7PEmQ+5ak/Qtc9+vpKVj908/gC2kb/5FT7A/AJ0kShrZOnfoVcAxJz8hKqMcF0NRlwPpzQiNiFclBl0tIurTfAk6MiLoSbe9KkiOjdSSD/1MLXO80ku7Vs+m5fqslTUyXnU1ycGQBSeZxF0nWBknWNg14CpgLbHCOY76I+G/gGyTduJUkGe4EPhwP+ynJONvTwDNpnT8tcB/yt/UQyT9gT5Mcyc4NelUk38FykjMmPkaSEebXUbbvKyJmRkRL2fU0knHt50iGC95nw+5580UCqyTNbW876ZDJzSTj6E9FxPPAvwN/lNQvLbM6zXxbsha4gmSooo7kTIt/joglOfvyEvB3kt/65NbaEhFvRMRfmg9eWenIn6mZWXF6agZqZlZ2DqBmZkVyADUzK5IDqJlZkbr89mdtUU3/UN/Nsm6GldABe7Z1iqpVmpdffom6urp2z28uVPXmO0Y0FH5uf6xdOS0ixpZq+53VvQJo383ot/upWTfDSujR/9fuLQGsghx+yKiS1hcN79Nvj/HtF0y9/4//ae/KsC7VrQKomfUyAja6K1/lcAA1s2xV8O13HUDNLFvOQM3MiiFnoGZmRXMGamZWBOEM1MysOHIGamZWNGegZmbFEFQV+uSb7scB1Myy4xPpzcw6wV14M7Ni+DxQM7PiVbkLb2bWcT4P1MysE3wQycysGB4DNTMrnjNQM7MiOQM1MyuCfCWSmVnxKrgLX7m5s5n1AOlBpEJfhdQojZW0SNJiSZe2UmaMpCclzZf0t5z5L0l6Jl02u71tOQM1s2yVMAOVVA1cAxwD1AKzJE2OiAU5ZbYErgXGRsQrkobkVXN0RNQVsj1noGaWneYT6UuXgY4GFkfEkoioB24DxuWVOQO4JyJeAYiIFcU23wHUzDLU4S78YEmzc17n5VU4FFiaM12bzsu1GzBI0gxJcySdnbMsgOnp/Py6N+IuvJllq2Nd+LqIGNVWbS3Mi7zpGuAg4BNAf+AxSY9HxHPA4RGxPO3WPyRpYUQ83NrGnIGaWbZK24WvBYbnTA8DlrdQZmpErEnHOh8G9gOIiOXp/1cAk0iGBFrlAGpm2ZIKf7VvFjBS0ghJfYHxwOS8MvcBR0qqkbQpcAjwrKQBkjZLmqQBwLHAvLY25i68mWVHpb0WPiIaJE0ApgHVwA0RMV/SBenyiRHxrKSpwNNAE3B9RMyTtDMwSUmgrgFuiYipbW3PAdTMMqWq0naEI2IKMCVv3sS86Z8DP8+bt4S0K18oB1Azy0zySKTKvRLJAdTMsiNaPm5eIRxAzSxDcgZqZlYsB1AzsyI5gJqZFckB1MysGD6IZGZWHPkgkplZ8RxAzcyK5ABqZlYMgaocQM3MiuIM1MysCD6IZGbWCQ6gZmbFqtz46QBqZhmSM1Azs6I5gJqZFckB1MysCD4Kb2bWGZUbPx1AzSxDgqoSP1SuK1Vuy7uhYw7bk6cmfZ959/2Qb37xmBbLHHnQSB6/7VLm3PVdpl//tfXzLzp9DLPv/Hfm3PVdJpwxpotabO2ZPm0q++69O3vvsSs//6+fbbT8/sn3cfAB+3LIQftz+CGjeHTmzPXLzj/3S+yw/RAO2n+frmxyxZFU8KvA+sZKWiRpsaRLWykzRtKTkuZL+ltH1s3lDLREqqrElZeeyglfuZplr7/FzD/9Gw/87RkWLnltfZktBvbnqn8/lXEXXcvS195km0EDAdhrl4/wxc8expFn/Zz6dY1MvuZC/jxzPi+8sjKr3TGgsbGRr198EQ/++SGGDhvGEf90MCee+Bn23Guv9WWO/vgnOPHTn0ESzzz9NJ8/41SemrcQgLO+cA4XXDiBc790dla7UBlK2IWXVA1cAxwD1AKzJE2OiAU5ZbYErgXGRsQrkoYUum4+Z6AlcvA+O/HC0jpeWraKdQ2N3DltLieO2XeDMqcdN4r7/vIUS197E4CVb64GYI8R2/HEMy+x9v11NDY28cicxYw7ukOPp7YymPXEE+yyy66M2Hln+vbtyymnjeeB++/boMzAgQPXZ0Zr1qzZIEs64sij2Gqrrbq0zZWoxBnoaGBxRCyJiHrgNmBcXpkzgHsi4hWAiFjRgXU34ABaItsP2YLa199cP73s9TcZus0WG5QZueMQttx8U6b99ms8+qdvccaJowGY/8JyjjhwV7baYgD9N+nD2CP2Zth2g7q0/bax5cuXMWzY8PXTQ4cOY9myZRuVu+/eSey3zx58dtwJTLzuhq5sYsXrSPAsMIAOBZbmTNem83LtBgySNEPSHElnd2DdDZS1Cy9pLHAVUA1cHxEbDyL1EGqhHxJ50zXVVRy453COO/9/6L9JH2bcdAlPPP0Si158nStufIgHfj2BNWs/4OnnltHQ0Ng1DbdWReR/gy2fszjupJMZd9LJzHzkYS770feZMu3/dkXzeowOnsY0WNLsnOnrIuK63OpaWGejP0XgIOATQH/gMUmPF7juRhWVRTHjCZVs2Yq3GLbth1nj0G0HsXzl2xuVqXtrDe+9X89779czc+5i9t1tKItfWcFN9z7GTfc+BsCPJ3yaZa+/1ZXNtxYMHTqM2toPE5Jly2rZfvvtWy1/xJFHsWTJC9TV1TF48OCuaGKP0MEAWhcRo9pYXgsMz5keBixvoUxdRKwB1kh6GNivwHU3UM4ufIfHEyrZ7Pkvs+sO27Dj9lvTp6aaUz51IA/OeHqDMvfPeJrDD9iF6uoq+m/Sh4P32YmFLyYHmZoPKA3fbhDjPr4fd0ydvdE2rGuNOvhgFi9+npdefJH6+nruvP02TjjxMxuUeWHx4vWZ6j/mzqW+vp6tt946i+ZWLnXg1b5ZwEhJIyT1BcYDk/PK3AccKalG0qbAIcCzBa67gXJ24VsaTzgkv5Ck84DzAOgzsIzNKa/Gxib+9fI7uP/ai6iuEjfd9zjPLnmNcz93BADX3zWTRS++zkN/X8CsO75DU1Nw46S/s+CFVwG49RfnstWWA1jX0MjXf3YHb727NsvdMaCmpoZfXnU1nz7hUzQ2NvKFc77EXnvvzW9/MxGAfzn/AiZNuptbbv4DfWr6sEn//vzxT7evz6jO/vzpPPK3GdTV1bHLTsP4/g9+zDlf+nKWu9QtlfJKpIhokDQBmEYydHhDRMyXdEG6fGJEPCtpKvA00EQyvDgvbctG67bZ9pbGeUpB0inApyLi3HT6LGB0RHy1tXWqNh0S/XY/tSztsWy8OevqrJtgJXT4IaOYM2d2ySJev+1GxrAzf1Vw+SX/ffycdrrwXaqcGWiHxxPMrHcRoqqCn4lUzjHQDo8nmFnvIxX+6m7KloG2NhZRru2ZWWXy3ZhaERFTgCnl3IaZVbBumlkWytfCm1lmBBU9BuoAamaZcgZqZlYkj4GamRXDY6BmZsURzkDNzIrkh8qZmRWtguOnA6iZZUg+jcnMrCgeAzUz64QKjp8OoGaWLWegZmZFquD46QBqZhmSM1Azs6IkB5GybkXxHEDNLEM+kd7MrGgVHD8dQM0sW85AzcyKoAq/EqmcD5UzM2uXpIJfBdY3VtIiSYslXdrC8jGS3pb0ZPr6Qc6ylyQ9k86f3d62nIGaWaZK2YOXVA1cAxxD8mj1WZImR8SCvKKPRMSJrVRzdETUFbI9Z6BmlqkSZ6CjgcURsSQi6oHbgHHlarsDqJllpwPPhE/j52BJs3Ne5+XVOBRYmjNdm87Ld6ikpyT9WdLeOfMDmC5pTgt1b8RdeDPLjDp+HmhdRIxqs8qNRd70XGDHiFgt6XjgXmBkuuzwiFguaQjwkKSFEfFwaxtzBmpmmepgBtqeWmB4zvQwYHlugYh4JyJWp++nAH0kDU6nl6f/XwFMIhkSaJUDqJllqkoq+FWAWcBISSMk9QXGA5NzC0jaTmnaK2k0SRxcJWmApM3S+QOAY4F5bW3MXXgzy1Qpj8JHRIOkCcA0oBq4ISLmS7ogXT4R+BzwFUkNwFpgfESEpG2BSWlsrQFuiYipbW3PAdTMMqMy3I0p7ZZPyZs3Mef91cDVLay3BNivI9tyADWzTFVX8JVIDqBmlqkKvhTeAdTMsiOSU5kqVasBVNL/sPH5U+tFxMVlaZGZ9SoV3INvMwNt90J6M7NO6cBNQrqjVgNoRNyUOy1pQESsKX+TzKw3qeD42f6J9JIOlbQAeDad3k/StWVvmZn1eKLkJ9J3qUKuRLoS+BSwCiAingKOKmObzKwXKfGlnF2qoKPwEbE0b5yisTzNMbPepkeOgeZYKukwINJrSy8m7c6bmXVGd80sC1VIAL0AuIrknnrLSK4xvaicjTKz3qM7jm0Wqt0Amt7a/swuaIuZ9UKVHEALOQq/s6T7Ja2UtELSfZJ27orGmVnPlhyFL/zV3RRyFP4W4A7gI8D2wJ3AreVslJn1Eh14HlJ3PNhUSABVRPwxIhrS1820cYmnmVlH9MjTmCRtlb793/TZyreRBM7TgAe7oG1m1gt0x8yyUG0dRJpDEjCb9+78nGUB/KRcjTKz3qF5DLRStXUt/IiubIiZ9U49NQNdT9I+wF7AJs3zIuIP5WqUmfUelRs+Cwigkn4IjCEJoFOA44CZgAOomXWK1MPPAyV5gt0ngNci4oskD13qV9ZWmVmv0SOPwudYGxFNkhokbQ6sAHwivZmVRFUFH0UqJAOdLWlL4LckR+bnAk+Us1Fm1juIwu8FWmhXX9JYSYskLU5PwcxfPkbS25KeTF8/KHTdfIVcC39h+naipKnA5hHxdEF7YmbWlhJ3zSVVA9cAxwC1wCxJkyNiQV7RRyLixCLXXa+tE+kPbGtZRMxtd2/MzNpR4tOYRgOLI2JJWvdtwDig1SDYmXXbykCvaGNZAB8voEEdss/uw5ny17Y2a5Vm0Gd+lXUTrIQ+WLyi5HUWMo6YY7Ck3AdeXhcR1+VMDwWW5kzXAoe0UM+hkp4ClgPfjIj5HVh3vbZOpD+6rRXNzDpLdDgDrYuIUe1UmS//3h1zgR0jYrWk44F7gZEFrruBDgZ/M7PSKvHt7GqB4TnTw0iyzPUi4p2IWJ2+nwL0kTS4kHU3antBTTIzK5MSB9BZwEhJI9JHEI0HJucWkLSd0rRX0miSOLiqkHXzFXQpp5lZOSQnyJfuIFJENEiaQPLooWrghoiYL+mCdPlEkouDviKpAVgLjI+IAFpct63tFXIpp0ge6bFzRFwmaQdgu4jwuaBm1mmlPo8+7ZZPyZs3Mef91cDVha7blkK68NcChwKnp9PvkpwrZWbWKQKqq1Twq7sppAt/SEQcKOkfABHxZjo+YGbWaZV8IKaQALouPUM/ACRtAzSVtVVm1mt0x5uEFKqQAPorYBIwRNJ/kAzAfq+srTKzXkEduMa9OyrkWvg/SZpDcks7ASdFxLNlb5mZ9QoVHD8LOgq/A/AecH/uvIh4pZwNM7PeoRseGypYIV34B/nw4XKbACOARcDeZWyXmfUCyUPlKjeCFtKF/2judHqXpvNbKW5m1iEVHD87fiVSRMyVdHA5GmNmvUzhl2h2S4WMgX4jZ7IKOBBYWbYWmVmvogp+LmchGehmOe8bSMZE7y5Pc8ysN0nGQLNuRfHaDKDpCfQDI+Lfuqg9ZtbLdMdLNAvV1iM9atI7m7T6aA8zs87oyRnoEyTjnU9KmgzcCaxpXhgR95S5bWbW03XT570XqpAx0K1Ibjb6cT48HzQAB1Az67Seeh7okPQI/Dw+DJzN2nxOiJlZIXpyF74aGEgRD1oyMytUBSegbQbQVyPisi5riZn1QqKqh54HWrl7ZWYVIXmscdatKF5bAfQTXdYKM+udeuqlnBHxRlc2xMx6p556FN7MrKyaHypXqSr5eU5m1gNIhb8Kq09jJS2StFjSpW2UO1hSo6TP5cx7SdIzkp6UNLu9bTkDNbPMiNJmcen9O64BjgFqgVmSJkfEghbKXQ5Ma6GaoyOirpDtOQM1s+woebBcoa8CjAYWR8SSiKgHbgPGtVDuqyR3lVvRmeY7gJpZptSBFzBY0uyc13l51Q0FluZM16bzPtyeNBQ4GZjYQnMCmC5pTgt1b8RdeDPLTBHPRKqLiFHtVJkv/8rJK4FvR0RjC1nt4RGxXNIQ4CFJCyPi4dY25gBqZpkq8TH4WmB4zvQwYHlemVHAbWnwHAwcL6khIu6NiOUAEbFC0iSSIYFWA6i78GaWqRIfhZ8FjJQ0QlJfYDwwObdARIyIiJ0iYifgLuDCiLhX0gBJmyVt0gDgWJKbKbXKGaiZZajgg0MFSW8CP4Hk6Ho1cENEzJd0Qbq8pXHPZtsCk9L21AC3RMTUtrbnAGpmmSn1aUwAETEFmJI3r8XAGRHn5LxfAuzXkW05gJpZpnwpp5lZMdLzQCuVA6iZZaYcXfiu5ABqZplyBmpmVqTKDZ8OoGaWsQpOQB1AzSw7yRho5UZQB1Azy5QzUDOzogg5AzUzK44zUDOzIngM1MysWIKqCj6T3gHUzDLlMVAzsyIkd6TPuhXFcwAtoX41YstNaxBizQeNvPtB4wbLN+lTxeabVK+ffuu9Buobk6cNbLd5X4Ig0ocPrHh3XZe121p3zEE78ovzj6K6Stw4bT6/uHPORmWO/OhQfn7eUfSpqWLVO+9z7LfvBmDh78/h3bX1NDYGDU1NHPG127u6+RXBGagBMGjTPqxcXU9jEwzZrA9r1zXR0PTh41g+WNfEinVNAPSpFlsNqOH1dz4MlCvfXUdT/tNbLDNVVeLKC8dwwncnsaxuNTOvPI0HHn+RhUvfWF9miwF9ueqioxn3/XtZunI122zRf4M6xl56D6veeb+rm15RKvkofAUP33YvfatFQ1PQmMRH1q5ron/fDT/e3NhYwb+ZXuPg3bblheVv8dJr77CuoYk7H36eEw/deYMyp43Znfv+vpilK1cDsPLttVk0taKpA/91N85AS6S6SjTmpI+NTUHf6o3/fdqkTxVb9K+mWqJu9Ybd9MED+wCw5oNG1tQ3lbfB1q7ttx5Ibd3q9dPL6lYzevdtNygzcuiW1NRUM+1nn2Vg/75cc9+T3PLXhQBEBPf/9CQi4Hd/foYbps7v0vZXAo+BtkLSDcCJwIqI2Kdc26k0769r4v11TfStEZv3r1kfRFe8W09TJD+mwQP7sK4pqG9wfz5LLXUtI+8rqamu4sBdh3Dcd+6hf78aZlxxKk8seo3Fy97i49+8i1ffWMM2W/Tngf84iUW1b/LovPwHRPZ23TOzLFQ5u/A3AmPLWH+30tgUVOf8U1pdJRrz/9py1DcENVVa/69vc/LaFEmQbSl7ta61rG41wwYPXD89dPBAlr+xZqMy0+e8zHsfNLDqnfeZOW8Z+44YDMCradmVb69l8mNLOHi3DbNXI70jfUmfytmlyvZXmj6M/o12C/YQ9Y1JQGyOe/37VLE2rxueGxP7VAspCZjiwzFRAf36VLGu0V34rM1+7nV23X5Ldtx2c/rUVHHKUSN58PElG5S5//ElHL739lRXif79ajh49+1YuPQNNu1Xw8D+yZDMpv1q+OQBOzD/5V7z59Ah6sCru8l8DFTSecB5AEOHDc+4NZ3z1nsNDB7YJzmNqb6RhqZgQHogaU19E5v2qWbTflVEJAeUVqXd96oq2HpA8scmwXv1TXzg7nvmGpuCf/31DO7/6Tiqq6q4afp8nn3lDc49PhmRun7KPBYtfZOH5rzMrGvPpKkpuHHafBa8/AY7bbc5t3/vBCDp5t8+YxEPzXk5y93plgRUlzi1lDQWuIrkscbXR8TPWil3MPA4cFpE3NWRddfXEW10MztL0k7AA4WOge57wEEx5a9/L1t7rOuNPPM3WTfBSuiDR39B09uvlCzi7fnRA+L39/5vweUP3XXQnIgY1dpySdXAc8AxQC0wCzg9Iha0UO4h4H2SZ8ffVei6uTzQZmaZKvFpTKOBxRGxJCLqgduAcS2U+ypwN7CiiHXXcwA1s0yV+CDSUGBpznRtOi9nexoKnAxM7Oi6+coWQCXdCjwG7C6pVtKXy7UtM6tcHTyINFjS7JzXeS1Uly9/nPJK4NsR0Zg3v5B1N1C2g0gRcXq56jazHqRjI6p1bY2BkmSNuUejhwH5J9+OAm5LH6c8GDheUkOB624g86PwZtZ7JZllSY/CzwJGShoBLAPGA2fkFoiIEeu3L91IcqD7Xkk17a2bzwHUzLJT4hPkI6JB0gRgGsmpSDdExHxJF6TL88c92123re05gJpZpkp9gnxETAGm5M1rMXBGxDntrdsWB1Azy1Z3vMSoQA6gZpYhUdUdL3IvkAOomWWmu17jXigHUDPLVgVHUAdQM8tUJd8P1AHUzDJVwUOgDqBmlq0Kjp8OoGaWoQo/iuQAamaZ8hiomVkRhMdAzcyKVsHx0wHUzDJWwRHUAdTMMuVLOc3MilS54dMB1MyyVsER1AHUzDJThjvSdykHUDPLTonvSN/VHEDNLFMVHD8dQM0sYxUcQR1AzSxD8hiomVmxPAZqZlaECr8ZE1VZN8DMejdJBb8KrG+spEWSFku6tIXl4yQ9LelJSbMlHZGz7CVJzzQva29bzkDNLFOl7MJLqgauAY4BaoFZkiZHxIKcYn8BJkdESNoXuAPYI2f50RFRV8j2nIGaWabUgVcBRgOLI2JJRNQDtwHjcgtExOqIiHRyABAUyQHUzLKTnkhf6AsYnHa7m1/n5dU4FFiaM12bzttws9LJkhYCDwJfylkUwHRJc1qoeyPuwptZxjrUh6+LiFEdrGyjDDMiJgGTJB0F/AT4ZLro8IhYLmkI8JCkhRHxcGsbcwZqZplpviN9BzLQ9tQCw3OmhwHLWyucBsddJA1Op5en/18BTCIZEmiVA6iZZarEY6CzgJGSRkjqC4wHJm+wPWlXpYf0JR0I9AVWSRogabN0/gDgWGBeWxtzF97MMlXKo/AR0SBpAjANqAZuiIj5ki5Il08E/hk4W9I6YC1wWnpEfluSbj0ksfGWiJja1vYcQM0sU6W+lDMipgBT8uZNzHl/OXB5C+stAfbryLYcQM0sWxV8KZIDqJllRoIqB1Azs+L4bkxmZsWq3PjpAGpm2arg+OkAambZ8v1AzcyK4jvSm5kVpflSzkrlSznNzIrkDNTMMlXJGagDqJllymOgZmbFKPw2dd2SA6iZZabSDyI5gJpZptyFNzMrkjNQM7MiVXD8dAA1s4xVcAR1ADWzTHkM1MysCJV+FF4RGz0yOTOSVgIvZ92OLjAYqMu6EVZSveU73TEitilVZZKmknx2haqLiLGl2n5ndasA2ltImh0Ro7Juh5WOv9PeyTcTMTMrkgOomVmRHECzcV3WDbCS83faC3kM1MysSM5AzcyK5ABqZlYkB9AuJGmspEWSFku6NOv2WOdJukHSCknzsm6LdT0H0C4iqRq4BjgO2As4XdJe2bbKSuBGoNuc2G1dywG064wGFkfEkoioB24DxmXcJuukiHgYeCPrdlg2HEC7zlBgac50bTrPzCqUA2jXaemWCT6HzKyCOYB2nVpgeM70MGB5Rm0xsxJwAO06s4CRkkZI6guMByZn3CYz6wQH0C4SEQ3ABGAa8CxwR0TMz7ZV1lmSbgUeA3aXVCvpy1m3ybqOL+U0MyuSM1AzsyI5gJqZFckB1MysSA6gZmZFcgA1MyuSA2gPIqlR0pOS5km6U9KmnajrRkmfS99f39aNTySNkXRYEdt4SdJGT2RsbX5emdUd3NaPJH2zo200a4sDaM+yNiL2j4h9gHrggtyF6R2hOiwizo2IBW0UGQN0OICaVToH0J7rEWDXNDv8X0m3AM9Iqpb0c0mzJD0t6XwAJa6WtEDSg8CQ5ookzZA0Kn0/VtJcSU9J+ouknUgC9b+m2e+RkraRdHe6jVmSDk/X3VrSdEn/kPQbWr4/wAYk3StpjqT5ks7LW3ZF2pa/SNomnbeLpKnpOo9I2qMkn6ZZC2qyboCVnqQakvuOTk1njQb2iYgX0yD0dkQcLKkf8Kik6cABwO7AR4FtgQXADXn1bgP8FjgqrWuriHhD0kRgdUT8Ii13C/DLiJgpaQeSq6/2BH4IzIyIyySdAGwQEFvxpXQb/YFZku6OiFXAAGBuRFwi6Qdp3RNIHu52QUQ8L+kQ4Frg40V8jGbtcgDtWfpLejJ9/wjwO5Ku9RMR8WI6/1hg3+bxTWALYCRwFHBrRDQCyyX9tYX6/wl4uLmuiGjtPpifBPaS1ieYm0vaLN3GZ9N1H5T0ZgH7dLGkk9P3w9O2rgKagNvT+TcD90gamO7vnTnb7lfANsyK4gDas6yNiP1zZ6SBZE3uLOCrETEtr9zxtH97PRVQBpKhoUMjYm0LbSn42mFJY0iC8aER8Z6kGcAmrRSPdLtv5X8GZuXiMdDeZxrwFUl9ACTtJmkA8DAwPh0j/QhwdAvrPgZ8TNKIdN2t0vnvApvllJtO0p0mLbd/+vZh4Mx03nHAoHbaugXwZho89yDJgJtVAc1Z9BkkQwPvAC9KOiXdhiTt1842zIrmANr7XE8yvjk3fRDab0h6IpOA54FngF8Df8tfMSJWkoxb3iPpKT7sQt8PnNx8EAm4GBiVHqRawIdnA/wYOErSXJKhhFfaaetUoEbS08BPgMdzlq0B9pY0h2SM87J0/pnAl9P2zcePTbEy8t2YzMyK5AzUzKxIDqBmZkVyADUzK5IDqJlZkRxAzcyK5ABqZlYkB1AzsyL9f1iiDtFpT6r0AAAAAElFTkSuQmCC\n",
>>>>>>> d1f8d51b4470dd546ec473a7dc32c47c58eacef8
      "text/plain": [
       "<Figure size 432x288 with 2 Axes>"
      ]
     },
     "metadata": {
      "needs_background": "light"
     },
     "output_type": "display_data"
    }
   ],
   "source": [
    "print('Accuracy Score is {:.5}'.format(accuracy_score(y_test_balanced, prediction)))\n",
    "print(pd.DataFrame(confusion_matrix(y_test_balanced,prediction)))\n",
    "plot_confusion_matrix(confusion_matrix(y_test_balanced,prediction),\n",
    "                      classes=['0','1'], normalize = True, \n",
    "                      title='Normalized Confusion Matrix: SVM')"
   ]
  },
  {
   "cell_type": "code",
<<<<<<< HEAD
   "execution_count": null,
   "id": "0b5a97ef",
   "metadata": {},
   "outputs": [],
=======
   "execution_count": 49,
   "id": "0b5a97ef",
   "metadata": {},
   "outputs": [
    {
     "ename": "KeyboardInterrupt",
     "evalue": "",
     "output_type": "error",
     "traceback": [
      "\u001b[0;31m---------------------------------------------------------------------------\u001b[0m",
      "\u001b[0;31mKeyboardInterrupt\u001b[0m                         Traceback (most recent call last)",
      "\u001b[0;32m/var/folders/p9/yb_gdg0972903ybtlr_z57bh0000gp/T/ipykernel_28530/913754846.py\u001b[0m in \u001b[0;36m<module>\u001b[0;34m\u001b[0m\n\u001b[1;32m      5\u001b[0m \u001b[0mparam_grid\u001b[0m \u001b[0;34m=\u001b[0m \u001b[0;34m{\u001b[0m \u001b[0;34m'C'\u001b[0m\u001b[0;34m:\u001b[0m\u001b[0;34m[\u001b[0m\u001b[0;36m0.1\u001b[0m\u001b[0;34m,\u001b[0m\u001b[0;36m1\u001b[0m\u001b[0;34m,\u001b[0m\u001b[0;36m100\u001b[0m\u001b[0;34m,\u001b[0m\u001b[0;36m1000\u001b[0m\u001b[0;34m]\u001b[0m\u001b[0;34m,\u001b[0m\u001b[0;34m'kernel'\u001b[0m\u001b[0;34m:\u001b[0m\u001b[0;34m[\u001b[0m\u001b[0;34m'rbf'\u001b[0m\u001b[0;34m,\u001b[0m\u001b[0;34m'poly'\u001b[0m\u001b[0;34m,\u001b[0m\u001b[0;34m'sigmoid'\u001b[0m\u001b[0;34m,\u001b[0m\u001b[0;34m'linear'\u001b[0m\u001b[0;34m]\u001b[0m\u001b[0;34m,\u001b[0m\u001b[0;34m'degree'\u001b[0m\u001b[0;34m:\u001b[0m\u001b[0;34m[\u001b[0m\u001b[0;36m1\u001b[0m\u001b[0;34m,\u001b[0m\u001b[0;36m2\u001b[0m\u001b[0;34m,\u001b[0m\u001b[0;36m3\u001b[0m\u001b[0;34m,\u001b[0m\u001b[0;36m4\u001b[0m\u001b[0;34m,\u001b[0m\u001b[0;36m5\u001b[0m\u001b[0;34m,\u001b[0m\u001b[0;36m6\u001b[0m\u001b[0;34m]\u001b[0m\u001b[0;34m}\u001b[0m\u001b[0;34m\u001b[0m\u001b[0;34m\u001b[0m\u001b[0m\n\u001b[1;32m      6\u001b[0m \u001b[0mgrid\u001b[0m \u001b[0;34m=\u001b[0m \u001b[0mGridSearchCV\u001b[0m\u001b[0;34m(\u001b[0m\u001b[0mSVC\u001b[0m\u001b[0;34m(\u001b[0m\u001b[0;34m)\u001b[0m\u001b[0;34m,\u001b[0m\u001b[0mparam_grid\u001b[0m\u001b[0;34m)\u001b[0m\u001b[0;34m\u001b[0m\u001b[0;34m\u001b[0m\u001b[0m\n\u001b[0;32m----> 7\u001b[0;31m \u001b[0mgrid\u001b[0m\u001b[0;34m.\u001b[0m\u001b[0mfit\u001b[0m\u001b[0;34m(\u001b[0m\u001b[0mX_balanced\u001b[0m\u001b[0;34m,\u001b[0m \u001b[0my_balanced\u001b[0m\u001b[0;34m)\u001b[0m\u001b[0;34m\u001b[0m\u001b[0;34m\u001b[0m\u001b[0m\n\u001b[0m",
      "\u001b[0;32m~/opt/anaconda3/lib/python3.9/site-packages/sklearn/model_selection/_search.py\u001b[0m in \u001b[0;36mfit\u001b[0;34m(self, X, y, groups, **fit_params)\u001b[0m\n\u001b[1;32m    873\u001b[0m                 \u001b[0;32mreturn\u001b[0m \u001b[0mresults\u001b[0m\u001b[0;34m\u001b[0m\u001b[0;34m\u001b[0m\u001b[0m\n\u001b[1;32m    874\u001b[0m \u001b[0;34m\u001b[0m\u001b[0m\n\u001b[0;32m--> 875\u001b[0;31m             \u001b[0mself\u001b[0m\u001b[0;34m.\u001b[0m\u001b[0m_run_search\u001b[0m\u001b[0;34m(\u001b[0m\u001b[0mevaluate_candidates\u001b[0m\u001b[0;34m)\u001b[0m\u001b[0;34m\u001b[0m\u001b[0;34m\u001b[0m\u001b[0m\n\u001b[0m\u001b[1;32m    876\u001b[0m \u001b[0;34m\u001b[0m\u001b[0m\n\u001b[1;32m    877\u001b[0m             \u001b[0;31m# multimetric is determined here because in the case of a callable\u001b[0m\u001b[0;34m\u001b[0m\u001b[0;34m\u001b[0m\u001b[0m\n",
      "\u001b[0;32m~/opt/anaconda3/lib/python3.9/site-packages/sklearn/model_selection/_search.py\u001b[0m in \u001b[0;36m_run_search\u001b[0;34m(self, evaluate_candidates)\u001b[0m\n\u001b[1;32m   1377\u001b[0m     \u001b[0;32mdef\u001b[0m \u001b[0m_run_search\u001b[0m\u001b[0;34m(\u001b[0m\u001b[0mself\u001b[0m\u001b[0;34m,\u001b[0m \u001b[0mevaluate_candidates\u001b[0m\u001b[0;34m)\u001b[0m\u001b[0;34m:\u001b[0m\u001b[0;34m\u001b[0m\u001b[0;34m\u001b[0m\u001b[0m\n\u001b[1;32m   1378\u001b[0m         \u001b[0;34m\"\"\"Search all candidates in param_grid\"\"\"\u001b[0m\u001b[0;34m\u001b[0m\u001b[0;34m\u001b[0m\u001b[0m\n\u001b[0;32m-> 1379\u001b[0;31m         \u001b[0mevaluate_candidates\u001b[0m\u001b[0;34m(\u001b[0m\u001b[0mParameterGrid\u001b[0m\u001b[0;34m(\u001b[0m\u001b[0mself\u001b[0m\u001b[0;34m.\u001b[0m\u001b[0mparam_grid\u001b[0m\u001b[0;34m)\u001b[0m\u001b[0;34m)\u001b[0m\u001b[0;34m\u001b[0m\u001b[0;34m\u001b[0m\u001b[0m\n\u001b[0m\u001b[1;32m   1380\u001b[0m \u001b[0;34m\u001b[0m\u001b[0m\n\u001b[1;32m   1381\u001b[0m \u001b[0;34m\u001b[0m\u001b[0m\n",
      "\u001b[0;32m~/opt/anaconda3/lib/python3.9/site-packages/sklearn/model_selection/_search.py\u001b[0m in \u001b[0;36mevaluate_candidates\u001b[0;34m(candidate_params, cv, more_results)\u001b[0m\n\u001b[1;32m    820\u001b[0m                     )\n\u001b[1;32m    821\u001b[0m \u001b[0;34m\u001b[0m\u001b[0m\n\u001b[0;32m--> 822\u001b[0;31m                 out = parallel(\n\u001b[0m\u001b[1;32m    823\u001b[0m                     delayed(_fit_and_score)(\n\u001b[1;32m    824\u001b[0m                         \u001b[0mclone\u001b[0m\u001b[0;34m(\u001b[0m\u001b[0mbase_estimator\u001b[0m\u001b[0;34m)\u001b[0m\u001b[0;34m,\u001b[0m\u001b[0;34m\u001b[0m\u001b[0;34m\u001b[0m\u001b[0m\n",
      "\u001b[0;32m~/opt/anaconda3/lib/python3.9/site-packages/joblib/parallel.py\u001b[0m in \u001b[0;36m__call__\u001b[0;34m(self, iterable)\u001b[0m\n\u001b[1;32m   1044\u001b[0m                 \u001b[0mself\u001b[0m\u001b[0;34m.\u001b[0m\u001b[0m_iterating\u001b[0m \u001b[0;34m=\u001b[0m \u001b[0mself\u001b[0m\u001b[0;34m.\u001b[0m\u001b[0m_original_iterator\u001b[0m \u001b[0;32mis\u001b[0m \u001b[0;32mnot\u001b[0m \u001b[0;32mNone\u001b[0m\u001b[0;34m\u001b[0m\u001b[0;34m\u001b[0m\u001b[0m\n\u001b[1;32m   1045\u001b[0m \u001b[0;34m\u001b[0m\u001b[0m\n\u001b[0;32m-> 1046\u001b[0;31m             \u001b[0;32mwhile\u001b[0m \u001b[0mself\u001b[0m\u001b[0;34m.\u001b[0m\u001b[0mdispatch_one_batch\u001b[0m\u001b[0;34m(\u001b[0m\u001b[0miterator\u001b[0m\u001b[0;34m)\u001b[0m\u001b[0;34m:\u001b[0m\u001b[0;34m\u001b[0m\u001b[0;34m\u001b[0m\u001b[0m\n\u001b[0m\u001b[1;32m   1047\u001b[0m                 \u001b[0;32mpass\u001b[0m\u001b[0;34m\u001b[0m\u001b[0;34m\u001b[0m\u001b[0m\n\u001b[1;32m   1048\u001b[0m \u001b[0;34m\u001b[0m\u001b[0m\n",
      "\u001b[0;32m~/opt/anaconda3/lib/python3.9/site-packages/joblib/parallel.py\u001b[0m in \u001b[0;36mdispatch_one_batch\u001b[0;34m(self, iterator)\u001b[0m\n\u001b[1;32m    859\u001b[0m                 \u001b[0;32mreturn\u001b[0m \u001b[0;32mFalse\u001b[0m\u001b[0;34m\u001b[0m\u001b[0;34m\u001b[0m\u001b[0m\n\u001b[1;32m    860\u001b[0m             \u001b[0;32melse\u001b[0m\u001b[0;34m:\u001b[0m\u001b[0;34m\u001b[0m\u001b[0;34m\u001b[0m\u001b[0m\n\u001b[0;32m--> 861\u001b[0;31m                 \u001b[0mself\u001b[0m\u001b[0;34m.\u001b[0m\u001b[0m_dispatch\u001b[0m\u001b[0;34m(\u001b[0m\u001b[0mtasks\u001b[0m\u001b[0;34m)\u001b[0m\u001b[0;34m\u001b[0m\u001b[0;34m\u001b[0m\u001b[0m\n\u001b[0m\u001b[1;32m    862\u001b[0m                 \u001b[0;32mreturn\u001b[0m \u001b[0;32mTrue\u001b[0m\u001b[0;34m\u001b[0m\u001b[0;34m\u001b[0m\u001b[0m\n\u001b[1;32m    863\u001b[0m \u001b[0;34m\u001b[0m\u001b[0m\n",
      "\u001b[0;32m~/opt/anaconda3/lib/python3.9/site-packages/joblib/parallel.py\u001b[0m in \u001b[0;36m_dispatch\u001b[0;34m(self, batch)\u001b[0m\n\u001b[1;32m    777\u001b[0m         \u001b[0;32mwith\u001b[0m \u001b[0mself\u001b[0m\u001b[0;34m.\u001b[0m\u001b[0m_lock\u001b[0m\u001b[0;34m:\u001b[0m\u001b[0;34m\u001b[0m\u001b[0;34m\u001b[0m\u001b[0m\n\u001b[1;32m    778\u001b[0m             \u001b[0mjob_idx\u001b[0m \u001b[0;34m=\u001b[0m \u001b[0mlen\u001b[0m\u001b[0;34m(\u001b[0m\u001b[0mself\u001b[0m\u001b[0;34m.\u001b[0m\u001b[0m_jobs\u001b[0m\u001b[0;34m)\u001b[0m\u001b[0;34m\u001b[0m\u001b[0;34m\u001b[0m\u001b[0m\n\u001b[0;32m--> 779\u001b[0;31m             \u001b[0mjob\u001b[0m \u001b[0;34m=\u001b[0m \u001b[0mself\u001b[0m\u001b[0;34m.\u001b[0m\u001b[0m_backend\u001b[0m\u001b[0;34m.\u001b[0m\u001b[0mapply_async\u001b[0m\u001b[0;34m(\u001b[0m\u001b[0mbatch\u001b[0m\u001b[0;34m,\u001b[0m \u001b[0mcallback\u001b[0m\u001b[0;34m=\u001b[0m\u001b[0mcb\u001b[0m\u001b[0;34m)\u001b[0m\u001b[0;34m\u001b[0m\u001b[0;34m\u001b[0m\u001b[0m\n\u001b[0m\u001b[1;32m    780\u001b[0m             \u001b[0;31m# A job can complete so quickly than its callback is\u001b[0m\u001b[0;34m\u001b[0m\u001b[0;34m\u001b[0m\u001b[0m\n\u001b[1;32m    781\u001b[0m             \u001b[0;31m# called before we get here, causing self._jobs to\u001b[0m\u001b[0;34m\u001b[0m\u001b[0;34m\u001b[0m\u001b[0m\n",
      "\u001b[0;32m~/opt/anaconda3/lib/python3.9/site-packages/joblib/_parallel_backends.py\u001b[0m in \u001b[0;36mapply_async\u001b[0;34m(self, func, callback)\u001b[0m\n\u001b[1;32m    206\u001b[0m     \u001b[0;32mdef\u001b[0m \u001b[0mapply_async\u001b[0m\u001b[0;34m(\u001b[0m\u001b[0mself\u001b[0m\u001b[0;34m,\u001b[0m \u001b[0mfunc\u001b[0m\u001b[0;34m,\u001b[0m \u001b[0mcallback\u001b[0m\u001b[0;34m=\u001b[0m\u001b[0;32mNone\u001b[0m\u001b[0;34m)\u001b[0m\u001b[0;34m:\u001b[0m\u001b[0;34m\u001b[0m\u001b[0;34m\u001b[0m\u001b[0m\n\u001b[1;32m    207\u001b[0m         \u001b[0;34m\"\"\"Schedule a func to be run\"\"\"\u001b[0m\u001b[0;34m\u001b[0m\u001b[0;34m\u001b[0m\u001b[0m\n\u001b[0;32m--> 208\u001b[0;31m         \u001b[0mresult\u001b[0m \u001b[0;34m=\u001b[0m \u001b[0mImmediateResult\u001b[0m\u001b[0;34m(\u001b[0m\u001b[0mfunc\u001b[0m\u001b[0;34m)\u001b[0m\u001b[0;34m\u001b[0m\u001b[0;34m\u001b[0m\u001b[0m\n\u001b[0m\u001b[1;32m    209\u001b[0m         \u001b[0;32mif\u001b[0m \u001b[0mcallback\u001b[0m\u001b[0;34m:\u001b[0m\u001b[0;34m\u001b[0m\u001b[0;34m\u001b[0m\u001b[0m\n\u001b[1;32m    210\u001b[0m             \u001b[0mcallback\u001b[0m\u001b[0;34m(\u001b[0m\u001b[0mresult\u001b[0m\u001b[0;34m)\u001b[0m\u001b[0;34m\u001b[0m\u001b[0;34m\u001b[0m\u001b[0m\n",
      "\u001b[0;32m~/opt/anaconda3/lib/python3.9/site-packages/joblib/_parallel_backends.py\u001b[0m in \u001b[0;36m__init__\u001b[0;34m(self, batch)\u001b[0m\n\u001b[1;32m    570\u001b[0m         \u001b[0;31m# Don't delay the application, to avoid keeping the input\u001b[0m\u001b[0;34m\u001b[0m\u001b[0;34m\u001b[0m\u001b[0m\n\u001b[1;32m    571\u001b[0m         \u001b[0;31m# arguments in memory\u001b[0m\u001b[0;34m\u001b[0m\u001b[0;34m\u001b[0m\u001b[0m\n\u001b[0;32m--> 572\u001b[0;31m         \u001b[0mself\u001b[0m\u001b[0;34m.\u001b[0m\u001b[0mresults\u001b[0m \u001b[0;34m=\u001b[0m \u001b[0mbatch\u001b[0m\u001b[0;34m(\u001b[0m\u001b[0;34m)\u001b[0m\u001b[0;34m\u001b[0m\u001b[0;34m\u001b[0m\u001b[0m\n\u001b[0m\u001b[1;32m    573\u001b[0m \u001b[0;34m\u001b[0m\u001b[0m\n\u001b[1;32m    574\u001b[0m     \u001b[0;32mdef\u001b[0m \u001b[0mget\u001b[0m\u001b[0;34m(\u001b[0m\u001b[0mself\u001b[0m\u001b[0;34m)\u001b[0m\u001b[0;34m:\u001b[0m\u001b[0;34m\u001b[0m\u001b[0;34m\u001b[0m\u001b[0m\n",
      "\u001b[0;32m~/opt/anaconda3/lib/python3.9/site-packages/joblib/parallel.py\u001b[0m in \u001b[0;36m__call__\u001b[0;34m(self)\u001b[0m\n\u001b[1;32m    260\u001b[0m         \u001b[0;31m# change the default number of processes to -1\u001b[0m\u001b[0;34m\u001b[0m\u001b[0;34m\u001b[0m\u001b[0m\n\u001b[1;32m    261\u001b[0m         \u001b[0;32mwith\u001b[0m \u001b[0mparallel_backend\u001b[0m\u001b[0;34m(\u001b[0m\u001b[0mself\u001b[0m\u001b[0;34m.\u001b[0m\u001b[0m_backend\u001b[0m\u001b[0;34m,\u001b[0m \u001b[0mn_jobs\u001b[0m\u001b[0;34m=\u001b[0m\u001b[0mself\u001b[0m\u001b[0;34m.\u001b[0m\u001b[0m_n_jobs\u001b[0m\u001b[0;34m)\u001b[0m\u001b[0;34m:\u001b[0m\u001b[0;34m\u001b[0m\u001b[0;34m\u001b[0m\u001b[0m\n\u001b[0;32m--> 262\u001b[0;31m             return [func(*args, **kwargs)\n\u001b[0m\u001b[1;32m    263\u001b[0m                     for func, args, kwargs in self.items]\n\u001b[1;32m    264\u001b[0m \u001b[0;34m\u001b[0m\u001b[0m\n",
      "\u001b[0;32m~/opt/anaconda3/lib/python3.9/site-packages/joblib/parallel.py\u001b[0m in \u001b[0;36m<listcomp>\u001b[0;34m(.0)\u001b[0m\n\u001b[1;32m    260\u001b[0m         \u001b[0;31m# change the default number of processes to -1\u001b[0m\u001b[0;34m\u001b[0m\u001b[0;34m\u001b[0m\u001b[0m\n\u001b[1;32m    261\u001b[0m         \u001b[0;32mwith\u001b[0m \u001b[0mparallel_backend\u001b[0m\u001b[0;34m(\u001b[0m\u001b[0mself\u001b[0m\u001b[0;34m.\u001b[0m\u001b[0m_backend\u001b[0m\u001b[0;34m,\u001b[0m \u001b[0mn_jobs\u001b[0m\u001b[0;34m=\u001b[0m\u001b[0mself\u001b[0m\u001b[0;34m.\u001b[0m\u001b[0m_n_jobs\u001b[0m\u001b[0;34m)\u001b[0m\u001b[0;34m:\u001b[0m\u001b[0;34m\u001b[0m\u001b[0;34m\u001b[0m\u001b[0m\n\u001b[0;32m--> 262\u001b[0;31m             return [func(*args, **kwargs)\n\u001b[0m\u001b[1;32m    263\u001b[0m                     for func, args, kwargs in self.items]\n\u001b[1;32m    264\u001b[0m \u001b[0;34m\u001b[0m\u001b[0m\n",
      "\u001b[0;32m~/opt/anaconda3/lib/python3.9/site-packages/sklearn/utils/fixes.py\u001b[0m in \u001b[0;36m__call__\u001b[0;34m(self, *args, **kwargs)\u001b[0m\n\u001b[1;32m    115\u001b[0m     \u001b[0;32mdef\u001b[0m \u001b[0m__call__\u001b[0m\u001b[0;34m(\u001b[0m\u001b[0mself\u001b[0m\u001b[0;34m,\u001b[0m \u001b[0;34m*\u001b[0m\u001b[0margs\u001b[0m\u001b[0;34m,\u001b[0m \u001b[0;34m**\u001b[0m\u001b[0mkwargs\u001b[0m\u001b[0;34m)\u001b[0m\u001b[0;34m:\u001b[0m\u001b[0;34m\u001b[0m\u001b[0;34m\u001b[0m\u001b[0m\n\u001b[1;32m    116\u001b[0m         \u001b[0;32mwith\u001b[0m \u001b[0mconfig_context\u001b[0m\u001b[0;34m(\u001b[0m\u001b[0;34m**\u001b[0m\u001b[0mself\u001b[0m\u001b[0;34m.\u001b[0m\u001b[0mconfig\u001b[0m\u001b[0;34m)\u001b[0m\u001b[0;34m:\u001b[0m\u001b[0;34m\u001b[0m\u001b[0;34m\u001b[0m\u001b[0m\n\u001b[0;32m--> 117\u001b[0;31m             \u001b[0;32mreturn\u001b[0m \u001b[0mself\u001b[0m\u001b[0;34m.\u001b[0m\u001b[0mfunction\u001b[0m\u001b[0;34m(\u001b[0m\u001b[0;34m*\u001b[0m\u001b[0margs\u001b[0m\u001b[0;34m,\u001b[0m \u001b[0;34m**\u001b[0m\u001b[0mkwargs\u001b[0m\u001b[0;34m)\u001b[0m\u001b[0;34m\u001b[0m\u001b[0;34m\u001b[0m\u001b[0m\n\u001b[0m\u001b[1;32m    118\u001b[0m \u001b[0;34m\u001b[0m\u001b[0m\n\u001b[1;32m    119\u001b[0m \u001b[0;34m\u001b[0m\u001b[0m\n",
      "\u001b[0;32m~/opt/anaconda3/lib/python3.9/site-packages/sklearn/model_selection/_validation.py\u001b[0m in \u001b[0;36m_fit_and_score\u001b[0;34m(estimator, X, y, scorer, train, test, verbose, parameters, fit_params, return_train_score, return_parameters, return_n_test_samples, return_times, return_estimator, split_progress, candidate_progress, error_score)\u001b[0m\n\u001b[1;32m    684\u001b[0m             \u001b[0mestimator\u001b[0m\u001b[0;34m.\u001b[0m\u001b[0mfit\u001b[0m\u001b[0;34m(\u001b[0m\u001b[0mX_train\u001b[0m\u001b[0;34m,\u001b[0m \u001b[0;34m**\u001b[0m\u001b[0mfit_params\u001b[0m\u001b[0;34m)\u001b[0m\u001b[0;34m\u001b[0m\u001b[0;34m\u001b[0m\u001b[0m\n\u001b[1;32m    685\u001b[0m         \u001b[0;32melse\u001b[0m\u001b[0;34m:\u001b[0m\u001b[0;34m\u001b[0m\u001b[0;34m\u001b[0m\u001b[0m\n\u001b[0;32m--> 686\u001b[0;31m             \u001b[0mestimator\u001b[0m\u001b[0;34m.\u001b[0m\u001b[0mfit\u001b[0m\u001b[0;34m(\u001b[0m\u001b[0mX_train\u001b[0m\u001b[0;34m,\u001b[0m \u001b[0my_train\u001b[0m\u001b[0;34m,\u001b[0m \u001b[0;34m**\u001b[0m\u001b[0mfit_params\u001b[0m\u001b[0;34m)\u001b[0m\u001b[0;34m\u001b[0m\u001b[0;34m\u001b[0m\u001b[0m\n\u001b[0m\u001b[1;32m    687\u001b[0m \u001b[0;34m\u001b[0m\u001b[0m\n\u001b[1;32m    688\u001b[0m     \u001b[0;32mexcept\u001b[0m \u001b[0mException\u001b[0m\u001b[0;34m:\u001b[0m\u001b[0;34m\u001b[0m\u001b[0;34m\u001b[0m\u001b[0m\n",
      "\u001b[0;32m~/opt/anaconda3/lib/python3.9/site-packages/sklearn/svm/_base.py\u001b[0m in \u001b[0;36mfit\u001b[0;34m(self, X, y, sample_weight)\u001b[0m\n\u001b[1;32m    249\u001b[0m \u001b[0;34m\u001b[0m\u001b[0m\n\u001b[1;32m    250\u001b[0m         \u001b[0mseed\u001b[0m \u001b[0;34m=\u001b[0m \u001b[0mrnd\u001b[0m\u001b[0;34m.\u001b[0m\u001b[0mrandint\u001b[0m\u001b[0;34m(\u001b[0m\u001b[0mnp\u001b[0m\u001b[0;34m.\u001b[0m\u001b[0miinfo\u001b[0m\u001b[0;34m(\u001b[0m\u001b[0;34m\"i\"\u001b[0m\u001b[0;34m)\u001b[0m\u001b[0;34m.\u001b[0m\u001b[0mmax\u001b[0m\u001b[0;34m)\u001b[0m\u001b[0;34m\u001b[0m\u001b[0;34m\u001b[0m\u001b[0m\n\u001b[0;32m--> 251\u001b[0;31m         \u001b[0mfit\u001b[0m\u001b[0;34m(\u001b[0m\u001b[0mX\u001b[0m\u001b[0;34m,\u001b[0m \u001b[0my\u001b[0m\u001b[0;34m,\u001b[0m \u001b[0msample_weight\u001b[0m\u001b[0;34m,\u001b[0m \u001b[0msolver_type\u001b[0m\u001b[0;34m,\u001b[0m \u001b[0mkernel\u001b[0m\u001b[0;34m,\u001b[0m \u001b[0mrandom_seed\u001b[0m\u001b[0;34m=\u001b[0m\u001b[0mseed\u001b[0m\u001b[0;34m)\u001b[0m\u001b[0;34m\u001b[0m\u001b[0;34m\u001b[0m\u001b[0m\n\u001b[0m\u001b[1;32m    252\u001b[0m         \u001b[0;31m# see comment on the other call to np.iinfo in this file\u001b[0m\u001b[0;34m\u001b[0m\u001b[0;34m\u001b[0m\u001b[0m\n\u001b[1;32m    253\u001b[0m \u001b[0;34m\u001b[0m\u001b[0m\n",
      "\u001b[0;32m~/opt/anaconda3/lib/python3.9/site-packages/sklearn/svm/_base.py\u001b[0m in \u001b[0;36m_dense_fit\u001b[0;34m(self, X, y, sample_weight, solver_type, kernel, random_seed)\u001b[0m\n\u001b[1;32m    331\u001b[0m             \u001b[0mself\u001b[0m\u001b[0;34m.\u001b[0m\u001b[0mfit_status_\u001b[0m\u001b[0;34m,\u001b[0m\u001b[0;34m\u001b[0m\u001b[0;34m\u001b[0m\u001b[0m\n\u001b[1;32m    332\u001b[0m             \u001b[0mself\u001b[0m\u001b[0;34m.\u001b[0m\u001b[0m_num_iter\u001b[0m\u001b[0;34m,\u001b[0m\u001b[0;34m\u001b[0m\u001b[0;34m\u001b[0m\u001b[0m\n\u001b[0;32m--> 333\u001b[0;31m         \u001b[0;34m)\u001b[0m \u001b[0;34m=\u001b[0m \u001b[0mlibsvm\u001b[0m\u001b[0;34m.\u001b[0m\u001b[0mfit\u001b[0m\u001b[0;34m(\u001b[0m\u001b[0;34m\u001b[0m\u001b[0;34m\u001b[0m\u001b[0m\n\u001b[0m\u001b[1;32m    334\u001b[0m             \u001b[0mX\u001b[0m\u001b[0;34m,\u001b[0m\u001b[0;34m\u001b[0m\u001b[0;34m\u001b[0m\u001b[0m\n\u001b[1;32m    335\u001b[0m             \u001b[0my\u001b[0m\u001b[0;34m,\u001b[0m\u001b[0;34m\u001b[0m\u001b[0;34m\u001b[0m\u001b[0m\n",
      "\u001b[0;31mKeyboardInterrupt\u001b[0m: "
     ]
    }
   ],
>>>>>>> d1f8d51b4470dd546ec473a7dc32c47c58eacef8
   "source": [
    "#Hyper-parameter tuning\n",
    "\n",
    "#commented out below as I have not got them working yet\n",
    "\n",
    "#param_grid = { 'C':[0.1,1,100,1000],'kernel':['rbf','poly','sigmoid','linear'],'degree':[1,2,3,4,5,6]}\n",
    "#grid = GridSearchCV(SVC(),param_grid)\n",
    "#grid.fit(X_balanced, y_balanced)\n"
   ]
  },
  {
   "cell_type": "code",
   "execution_count": null,
   "id": "f39a4751",
   "metadata": {},
   "outputs": [],
   "source": [
    "#print(grid.best_params_)\n",
    "#print(grid.score(X_test,y_test))"
   ]
  },
  {
   "cell_type": "code",
<<<<<<< HEAD
   "execution_count": 79,
   "id": "f057b862",
   "metadata": {},
   "outputs": [
    {
     "name": "stdout",
     "output_type": "stream",
     "text": [
      "                     0                                                  1\n",
      "0            Meta Data  {'1. Information': 'Intraday (60min) open, hig...\n",
      "1  Time Series (60min)  {'2022-09-16 17:00:00': {'1. open': '12.5000',...\n",
      "                     1. open  2. high   3. low 4. close 5. volume\n",
      "2022-09-16 17:00:00  12.5000  12.5000  12.4800  12.5000      4641\n",
      "2022-09-16 16:00:00  12.4550  12.4850  12.4200  12.4800   1045988\n",
      "2022-09-16 15:00:00  12.4000  12.4600  12.3927  12.4600    446821\n",
      "2022-09-16 14:00:00  12.4250  12.4300  12.3910  12.4050    362824\n",
      "2022-09-16 13:00:00  12.4350  12.4400  12.3900  12.4350    349127\n",
      "...                      ...      ...      ...      ...       ...\n",
      "2022-09-08 05:00:00  12.6400  12.6600  12.6200  12.6600     19158\n",
      "2022-09-07 17:00:00  12.7400  12.8800  12.7400  12.7700     45341\n",
      "2022-09-07 16:00:00  12.7350  12.7500  12.7200  12.7450    954928\n",
      "2022-09-07 15:00:00  12.7400  12.7500  12.7100  12.7350    336145\n",
      "2022-09-07 14:00:00  12.6750  12.7550  12.6700  12.7450    615877\n",
      "\n",
      "[100 rows x 5 columns]\n"
     ]
    }
   ],
   "source": [
    "# below are additional code for topics/skills that are learned from the course but have not been used in the exercises\n",
    "\n",
    "# importing data via API\n",
    "# replace the \"demo\" apikey below with your own key from https://www.alphavantage.co/support/#api-key\n",
    "url = 'https://www.alphavantage.co/query?function=TIME_SERIES_INTRADAY&symbol=VOD&interval=60min&apikey=KZXS6P19YHWPS8NB'\n",
    "r = requests.get(url)\n",
    "data = r.json()\n",
    "time_series_data = data[\"Time Series (60min)\"]\n",
    "\n",
    "#print(time_series_data)\n",
    "\n",
    "print(pd.DataFrame(data.items()))\n",
    "\n",
    "df = pd.DataFrame.from_dict(time_series_data)\n",
    "#print(df)\n",
    "\n",
    "#df1 = pd.DataFrame.from_dict({(i,j): time_series_data[i][j]\n",
    "#                            for i in time_series_data.keys()\n",
    "#                             for j in time_series_data[i].keys()},\n",
    "#                             orient='index'\n",
    "#                            )\n",
    "\n",
    "df1 = pd.DataFrame(time_series_data).T\n",
    "print(df1)"
   ]
  },
  {
   "cell_type": "code",
   "execution_count": null,
   "id": "eaa2cd2b",
=======
   "execution_count": null,
   "id": "f057b862",
>>>>>>> d1f8d51b4470dd546ec473a7dc32c47c58eacef8
   "metadata": {},
   "outputs": [],
   "source": []
  }
 ],
 "metadata": {
  "kernelspec": {
   "display_name": "Python 3 (ipykernel)",
   "language": "python",
   "name": "python3"
  },
  "language_info": {
   "codemirror_mode": {
    "name": "ipython",
    "version": 3
   },
   "file_extension": ".py",
   "mimetype": "text/x-python",
   "name": "python",
   "nbconvert_exporter": "python",
   "pygments_lexer": "ipython3",
   "version": "3.9.7"
  }
 },
 "nbformat": 4,
 "nbformat_minor": 5
}
